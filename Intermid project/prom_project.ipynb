{
 "cells": [
  {
   "cell_type": "markdown",
   "metadata": {},
   "source": [
    "# Проект e-com"
   ]
  },
  {
   "cell_type": "code",
   "execution_count": 81,
   "metadata": {},
   "outputs": [],
   "source": [
    "import pandas as pd\n",
    "import numpy as np\n",
    "import plotly.graph_objects as go\n",
    "import seaborn as sns\n",
    "import matplotlib.pyplot as plt"
   ]
  },
  {
   "cell_type": "code",
   "execution_count": 82,
   "metadata": {},
   "outputs": [
    {
     "data": {
      "text/plain": [
       "(99441, 5)"
      ]
     },
     "execution_count": 82,
     "metadata": {},
     "output_type": "execute_result"
    }
   ],
   "source": [
    "customers = pd.read_csv('olist_customers_dataset.csv')\n",
    "customers.shape"
   ]
  },
  {
   "cell_type": "code",
   "execution_count": 83,
   "metadata": {},
   "outputs": [
    {
     "data": {
      "text/plain": [
       "(99441, 8)"
      ]
     },
     "execution_count": 83,
     "metadata": {},
     "output_type": "execute_result"
    }
   ],
   "source": [
    "orders = pd.read_csv('olist_orders_dataset.csv')\n",
    "orders.shape"
   ]
  },
  {
   "cell_type": "code",
   "execution_count": 84,
   "metadata": {},
   "outputs": [
    {
     "data": {
      "text/plain": [
       "(112650, 7)"
      ]
     },
     "execution_count": 84,
     "metadata": {},
     "output_type": "execute_result"
    }
   ],
   "source": [
    "order_items = pd.read_csv('olist_order_items_dataset.csv')\n",
    "order_items.shape"
   ]
  },
  {
   "cell_type": "markdown",
   "metadata": {},
   "source": [
    "## Таблица customers  —  таблица с уникальными идентификаторами пользователей\n",
    "customer_id — позаказный идентификатор пользователя\n",
    "\n",
    "customer_unique_id —  уникальный идентификатор пользователя  (аналог номера паспорта)\n",
    "\n",
    "customer_zip_code_prefix —  почтовый индекс пользователя\n",
    "\n",
    "customer_city —  город доставки пользователя\n",
    "\n",
    "customer_state —  штат доставки пользователя"
   ]
  },
  {
   "cell_type": "markdown",
   "metadata": {},
   "source": [
    "## Таблица orders  —  таблица заказов\n",
    "order_id —  уникальный идентификатор заказа (номер чека)\n",
    "\n",
    "customer_id —  позаказный идентификатор пользователя\n",
    "\n",
    "order_status —  статус заказа\n",
    "\n",
    "order_purchase_timestamp —  время создания заказа\n",
    "\n",
    "order_approved_at —  время подтверждения оплаты заказа\n",
    "\n",
    "order_delivered_carrier_date —  время передачи заказа в логистическую службу\n",
    "\n",
    "order_delivered_customer_date —  время доставки заказа\n",
    "\n",
    "order_estimated_delivery_date —  обещанная дата доставки"
   ]
  },
  {
   "cell_type": "markdown",
   "metadata": {},
   "source": [
    "## Таблица order_items — товарные позиции, входящие в заказы\n",
    "order_id —  уникальный идентификатор заказа (номер чека)\n",
    "\n",
    "order_item_id —  идентификатор товара внутри одного заказа\n",
    "\n",
    "product_id —  ид товара (аналог штрихкода)\n",
    "\n",
    "seller_id — ид производителя товара\n",
    "\n",
    "shipping_limit_date —  максимальная дата доставки продавцом для передачи заказа партнеру по логистике\n",
    "\n",
    "price —  цена за единицу товара\n",
    "\n",
    "freight_value —  вес товара"
   ]
  },
  {
   "cell_type": "code",
   "execution_count": 85,
   "metadata": {},
   "outputs": [
    {
     "data": {
      "text/html": [
       "<div>\n",
       "<style scoped>\n",
       "    .dataframe tbody tr th:only-of-type {\n",
       "        vertical-align: middle;\n",
       "    }\n",
       "\n",
       "    .dataframe tbody tr th {\n",
       "        vertical-align: top;\n",
       "    }\n",
       "\n",
       "    .dataframe thead th {\n",
       "        text-align: right;\n",
       "    }\n",
       "</style>\n",
       "<table border=\"1\" class=\"dataframe\">\n",
       "  <thead>\n",
       "    <tr style=\"text-align: right;\">\n",
       "      <th></th>\n",
       "      <th>order_id</th>\n",
       "      <th>customer_id</th>\n",
       "      <th>order_status</th>\n",
       "      <th>order_purchase_timestamp</th>\n",
       "      <th>order_approved_at</th>\n",
       "      <th>order_delivered_carrier_date</th>\n",
       "      <th>order_delivered_customer_date</th>\n",
       "      <th>order_estimated_delivery_date</th>\n",
       "    </tr>\n",
       "  </thead>\n",
       "  <tbody>\n",
       "    <tr>\n",
       "      <th>36772</th>\n",
       "      <td>6b07198fae1bb61de16e845a92fc876f</td>\n",
       "      <td>92932704db71729a8f947b9ffdce4c99</td>\n",
       "      <td>delivered</td>\n",
       "      <td>2017-02-06 21:14:15</td>\n",
       "      <td>2017-02-06 21:25:13</td>\n",
       "      <td>2017-02-13 14:14:57</td>\n",
       "      <td>2017-02-17 12:11:59</td>\n",
       "      <td>2017-03-15 00:00:00</td>\n",
       "    </tr>\n",
       "    <tr>\n",
       "      <th>87203</th>\n",
       "      <td>5b9f98f4f7f84913dfb746a86bb11ab1</td>\n",
       "      <td>95879700e06973f767b965aa8972150b</td>\n",
       "      <td>delivered</td>\n",
       "      <td>2018-02-18 07:45:02</td>\n",
       "      <td>2018-02-18 07:55:21</td>\n",
       "      <td>2018-02-21 18:48:48</td>\n",
       "      <td>2018-04-03 22:47:23</td>\n",
       "      <td>2018-03-15 00:00:00</td>\n",
       "    </tr>\n",
       "    <tr>\n",
       "      <th>85028</th>\n",
       "      <td>66c8850e9f6bc2f81873165c41901706</td>\n",
       "      <td>b77e9f78e46a3fb8102d77740a2263da</td>\n",
       "      <td>delivered</td>\n",
       "      <td>2018-04-01 18:09:28</td>\n",
       "      <td>2018-04-01 18:27:51</td>\n",
       "      <td>2018-04-02 19:36:42</td>\n",
       "      <td>2018-04-03 12:22:34</td>\n",
       "      <td>2018-04-12 00:00:00</td>\n",
       "    </tr>\n",
       "    <tr>\n",
       "      <th>26166</th>\n",
       "      <td>c7ab4f518d1a47c3f78768c41c887d1b</td>\n",
       "      <td>f48f0e3bbe7fa6985141518b1d7264ce</td>\n",
       "      <td>delivered</td>\n",
       "      <td>2018-08-09 13:59:38</td>\n",
       "      <td>2018-08-11 02:55:27</td>\n",
       "      <td>2018-08-14 10:11:00</td>\n",
       "      <td>2018-08-27 20:04:23</td>\n",
       "      <td>2018-08-20 00:00:00</td>\n",
       "    </tr>\n",
       "    <tr>\n",
       "      <th>72312</th>\n",
       "      <td>0ff22bde315f6d0807028be76d9e736d</td>\n",
       "      <td>8125090a4744adfbe6d3940abeeb859b</td>\n",
       "      <td>delivered</td>\n",
       "      <td>2018-06-25 08:23:10</td>\n",
       "      <td>2018-06-27 09:11:47</td>\n",
       "      <td>2018-06-27 09:20:00</td>\n",
       "      <td>2018-07-05 12:36:25</td>\n",
       "      <td>2018-07-31 00:00:00</td>\n",
       "    </tr>\n",
       "  </tbody>\n",
       "</table>\n",
       "</div>"
      ],
      "text/plain": [
       "                               order_id                       customer_id  \\\n",
       "36772  6b07198fae1bb61de16e845a92fc876f  92932704db71729a8f947b9ffdce4c99   \n",
       "87203  5b9f98f4f7f84913dfb746a86bb11ab1  95879700e06973f767b965aa8972150b   \n",
       "85028  66c8850e9f6bc2f81873165c41901706  b77e9f78e46a3fb8102d77740a2263da   \n",
       "26166  c7ab4f518d1a47c3f78768c41c887d1b  f48f0e3bbe7fa6985141518b1d7264ce   \n",
       "72312  0ff22bde315f6d0807028be76d9e736d  8125090a4744adfbe6d3940abeeb859b   \n",
       "\n",
       "      order_status order_purchase_timestamp    order_approved_at  \\\n",
       "36772    delivered      2017-02-06 21:14:15  2017-02-06 21:25:13   \n",
       "87203    delivered      2018-02-18 07:45:02  2018-02-18 07:55:21   \n",
       "85028    delivered      2018-04-01 18:09:28  2018-04-01 18:27:51   \n",
       "26166    delivered      2018-08-09 13:59:38  2018-08-11 02:55:27   \n",
       "72312    delivered      2018-06-25 08:23:10  2018-06-27 09:11:47   \n",
       "\n",
       "      order_delivered_carrier_date order_delivered_customer_date  \\\n",
       "36772          2017-02-13 14:14:57           2017-02-17 12:11:59   \n",
       "87203          2018-02-21 18:48:48           2018-04-03 22:47:23   \n",
       "85028          2018-04-02 19:36:42           2018-04-03 12:22:34   \n",
       "26166          2018-08-14 10:11:00           2018-08-27 20:04:23   \n",
       "72312          2018-06-27 09:20:00           2018-07-05 12:36:25   \n",
       "\n",
       "      order_estimated_delivery_date  \n",
       "36772           2017-03-15 00:00:00  \n",
       "87203           2018-03-15 00:00:00  \n",
       "85028           2018-04-12 00:00:00  \n",
       "26166           2018-08-20 00:00:00  \n",
       "72312           2018-07-31 00:00:00  "
      ]
     },
     "execution_count": 85,
     "metadata": {},
     "output_type": "execute_result"
    }
   ],
   "source": [
    "orders.sample(5, random_state=0)"
   ]
  },
  {
   "cell_type": "markdown",
   "metadata": {},
   "source": [
    "Переведем все колонки с датой из строчного типа в тип даты"
   ]
  },
  {
   "cell_type": "code",
   "execution_count": 86,
   "metadata": {},
   "outputs": [
    {
     "name": "stdout",
     "output_type": "stream",
     "text": [
      "<class 'pandas.core.frame.DataFrame'>\n",
      "RangeIndex: 99441 entries, 0 to 99440\n",
      "Data columns (total 8 columns):\n",
      " #   Column                         Non-Null Count  Dtype \n",
      "---  ------                         --------------  ----- \n",
      " 0   order_id                       99441 non-null  object\n",
      " 1   customer_id                    99441 non-null  object\n",
      " 2   order_status                   99441 non-null  object\n",
      " 3   order_purchase_timestamp       99441 non-null  object\n",
      " 4   order_approved_at              99281 non-null  object\n",
      " 5   order_delivered_carrier_date   97658 non-null  object\n",
      " 6   order_delivered_customer_date  96476 non-null  object\n",
      " 7   order_estimated_delivery_date  99441 non-null  object\n",
      "dtypes: object(8)\n",
      "memory usage: 6.1+ MB\n"
     ]
    }
   ],
   "source": [
    "orders.info()"
   ]
  },
  {
   "cell_type": "code",
   "execution_count": 87,
   "metadata": {},
   "outputs": [],
   "source": [
    "orders['order_purchase_timestamp'] = pd.to_datetime(orders['order_purchase_timestamp'])\n",
    "orders['order_approved_at'] = pd.to_datetime(orders['order_approved_at'])\n",
    "orders['order_delivered_carrier_date'] = pd.to_datetime(orders['order_delivered_carrier_date'])\n",
    "orders['order_delivered_customer_date'] = pd.to_datetime(orders['order_delivered_customer_date'])\n",
    "orders['order_estimated_delivery_date'] = pd.to_datetime(orders['order_estimated_delivery_date'])"
   ]
  },
  {
   "cell_type": "code",
   "execution_count": 88,
   "metadata": {},
   "outputs": [
    {
     "data": {
      "text/plain": [
       "order_id                         99441\n",
       "customer_id                      99441\n",
       "order_status                         8\n",
       "order_purchase_timestamp         98875\n",
       "order_approved_at                90733\n",
       "order_delivered_carrier_date     81018\n",
       "order_delivered_customer_date    95664\n",
       "order_estimated_delivery_date      459\n",
       "dtype: int64"
      ]
     },
     "execution_count": 88,
     "metadata": {},
     "output_type": "execute_result"
    }
   ],
   "source": [
    "orders.nunique()"
   ]
  },
  {
   "cell_type": "markdown",
   "metadata": {},
   "source": [
    "Посмотрим какие статусы заказа существуют, чтобы определиться, что можно считать покупкой."
   ]
  },
  {
   "cell_type": "code",
   "execution_count": 89,
   "metadata": {},
   "outputs": [
    {
     "data": {
      "text/plain": [
       "delivered      96478\n",
       "shipped         1107\n",
       "canceled         625\n",
       "unavailable      609\n",
       "invoiced         314\n",
       "processing       301\n",
       "created            5\n",
       "approved           2\n",
       "Name: order_status, dtype: int64"
      ]
     },
     "execution_count": 89,
     "metadata": {},
     "output_type": "execute_result"
    }
   ],
   "source": [
    "orders.order_status.value_counts()"
   ]
  },
  {
   "cell_type": "markdown",
   "metadata": {},
   "source": [
    "<b>Уникальные статусы заказов в таблице orders</b>:\n",
    "\n",
    "created —  создан\n",
    "\n",
    "approved —  подтверждён\n",
    "\n",
    "invoiced —  выставлен счёт\n",
    "\n",
    "processing —  в процессе сборки заказа\n",
    "\n",
    "shipped —  отгружен со склада\n",
    "\n",
    "delivered —  доставлен пользователю\n",
    "\n",
    "unavailable —  недоступен\n",
    "\n",
    "canceled —  отменён"
   ]
  },
  {
   "cell_type": "markdown",
   "metadata": {},
   "source": [
    "Проверим сколько статусов заказа может быть присвоено одному customer_id"
   ]
  },
  {
   "cell_type": "code",
   "execution_count": 90,
   "metadata": {},
   "outputs": [
    {
     "data": {
      "text/html": [
       "<div>\n",
       "<style scoped>\n",
       "    .dataframe tbody tr th:only-of-type {\n",
       "        vertical-align: middle;\n",
       "    }\n",
       "\n",
       "    .dataframe tbody tr th {\n",
       "        vertical-align: top;\n",
       "    }\n",
       "\n",
       "    .dataframe thead th {\n",
       "        text-align: right;\n",
       "    }\n",
       "</style>\n",
       "<table border=\"1\" class=\"dataframe\">\n",
       "  <thead>\n",
       "    <tr style=\"text-align: right;\">\n",
       "      <th></th>\n",
       "      <th>order_status</th>\n",
       "    </tr>\n",
       "    <tr>\n",
       "      <th>customer_id</th>\n",
       "      <th></th>\n",
       "    </tr>\n",
       "  </thead>\n",
       "  <tbody>\n",
       "  </tbody>\n",
       "</table>\n",
       "</div>"
      ],
      "text/plain": [
       "Empty DataFrame\n",
       "Columns: [order_status]\n",
       "Index: []"
      ]
     },
     "execution_count": 90,
     "metadata": {},
     "output_type": "execute_result"
    }
   ],
   "source": [
    "orders.groupby('customer_id').agg({'order_status':'nunique'}).query('order_status > 1')"
   ]
  },
  {
   "cell_type": "markdown",
   "metadata": {},
   "source": [
    "Покупкой будем считать заказ с одним из статусов: <b>delivered, approved, processing, shipped</b> - так как каждому заказу соответствует только один статус и можно считать покупкой доставленные, оплаченные, отгруженные заказы или заказы в процессе сборки"
   ]
  },
  {
   "cell_type": "markdown",
   "metadata": {},
   "source": [
    "## 1. Сколько у нас пользователей, которые совершили покупку только один раз? "
   ]
  },
  {
   "cell_type": "code",
   "execution_count": 91,
   "metadata": {},
   "outputs": [
    {
     "data": {
      "text/plain": [
       "customer_id                 99441\n",
       "customer_unique_id          96096\n",
       "customer_zip_code_prefix    14994\n",
       "customer_city                4119\n",
       "customer_state                 27\n",
       "dtype: int64"
      ]
     },
     "execution_count": 91,
     "metadata": {},
     "output_type": "execute_result"
    }
   ],
   "source": [
    "customers.nunique()"
   ]
  },
  {
   "cell_type": "code",
   "execution_count": 92,
   "metadata": {},
   "outputs": [
    {
     "data": {
      "text/html": [
       "<div>\n",
       "<style scoped>\n",
       "    .dataframe tbody tr th:only-of-type {\n",
       "        vertical-align: middle;\n",
       "    }\n",
       "\n",
       "    .dataframe tbody tr th {\n",
       "        vertical-align: top;\n",
       "    }\n",
       "\n",
       "    .dataframe thead th {\n",
       "        text-align: right;\n",
       "    }\n",
       "</style>\n",
       "<table border=\"1\" class=\"dataframe\">\n",
       "  <thead>\n",
       "    <tr style=\"text-align: right;\">\n",
       "      <th></th>\n",
       "      <th>customer_id</th>\n",
       "      <th>customer_unique_id</th>\n",
       "      <th>customer_zip_code_prefix</th>\n",
       "      <th>customer_city</th>\n",
       "      <th>customer_state</th>\n",
       "    </tr>\n",
       "  </thead>\n",
       "  <tbody>\n",
       "    <tr>\n",
       "      <th>0</th>\n",
       "      <td>06b8999e2fba1a1fbc88172c00ba8bc7</td>\n",
       "      <td>861eff4711a542e4b93843c6dd7febb0</td>\n",
       "      <td>14409</td>\n",
       "      <td>franca</td>\n",
       "      <td>SP</td>\n",
       "    </tr>\n",
       "    <tr>\n",
       "      <th>1</th>\n",
       "      <td>18955e83d337fd6b2def6b18a428ac77</td>\n",
       "      <td>290c77bc529b7ac935b93aa66c333dc3</td>\n",
       "      <td>9790</td>\n",
       "      <td>sao bernardo do campo</td>\n",
       "      <td>SP</td>\n",
       "    </tr>\n",
       "    <tr>\n",
       "      <th>2</th>\n",
       "      <td>4e7b3e00288586ebd08712fdd0374a03</td>\n",
       "      <td>060e732b5b29e8181a18229c7b0b2b5e</td>\n",
       "      <td>1151</td>\n",
       "      <td>sao paulo</td>\n",
       "      <td>SP</td>\n",
       "    </tr>\n",
       "    <tr>\n",
       "      <th>3</th>\n",
       "      <td>b2b6027bc5c5109e529d4dc6358b12c3</td>\n",
       "      <td>259dac757896d24d7702b9acbbff3f3c</td>\n",
       "      <td>8775</td>\n",
       "      <td>mogi das cruzes</td>\n",
       "      <td>SP</td>\n",
       "    </tr>\n",
       "    <tr>\n",
       "      <th>4</th>\n",
       "      <td>4f2d8ab171c80ec8364f7c12e35b23ad</td>\n",
       "      <td>345ecd01c38d18a9036ed96c73b8d066</td>\n",
       "      <td>13056</td>\n",
       "      <td>campinas</td>\n",
       "      <td>SP</td>\n",
       "    </tr>\n",
       "  </tbody>\n",
       "</table>\n",
       "</div>"
      ],
      "text/plain": [
       "                        customer_id                customer_unique_id  \\\n",
       "0  06b8999e2fba1a1fbc88172c00ba8bc7  861eff4711a542e4b93843c6dd7febb0   \n",
       "1  18955e83d337fd6b2def6b18a428ac77  290c77bc529b7ac935b93aa66c333dc3   \n",
       "2  4e7b3e00288586ebd08712fdd0374a03  060e732b5b29e8181a18229c7b0b2b5e   \n",
       "3  b2b6027bc5c5109e529d4dc6358b12c3  259dac757896d24d7702b9acbbff3f3c   \n",
       "4  4f2d8ab171c80ec8364f7c12e35b23ad  345ecd01c38d18a9036ed96c73b8d066   \n",
       "\n",
       "   customer_zip_code_prefix          customer_city customer_state  \n",
       "0                     14409                 franca             SP  \n",
       "1                      9790  sao bernardo do campo             SP  \n",
       "2                      1151              sao paulo             SP  \n",
       "3                      8775        mogi das cruzes             SP  \n",
       "4                     13056               campinas             SP  "
      ]
     },
     "execution_count": 92,
     "metadata": {},
     "output_type": "execute_result"
    }
   ],
   "source": [
    "customers.head()"
   ]
  },
  {
   "cell_type": "code",
   "execution_count": 93,
   "metadata": {},
   "outputs": [],
   "source": [
    "customers_and_orders = customers.merge(orders, how='inner', on='customer_id')"
   ]
  },
  {
   "cell_type": "code",
   "execution_count": 94,
   "metadata": {},
   "outputs": [
    {
     "data": {
      "text/plain": [
       "1     90536\n",
       "2      2572\n",
       "3       181\n",
       "4        28\n",
       "5         9\n",
       "6         5\n",
       "7         3\n",
       "15        1\n",
       "9         1\n",
       "Name: order_id, dtype: int64"
      ]
     },
     "execution_count": 94,
     "metadata": {},
     "output_type": "execute_result"
    }
   ],
   "source": [
    "customers_and_orders \\\n",
    "    .query('order_status in (\"delivered\", \"approved\", \"processing\", \"shipped\")') \\\n",
    "    .dropna()\\\n",
    "    .groupby('customer_unique_id', as_index=False) \\\n",
    "    .agg({'order_id':'count'}).order_id.value_counts()"
   ]
  },
  {
   "cell_type": "markdown",
   "metadata": {},
   "source": [
    "<b>90536</b> пользователей совершили покупку только один раз"
   ]
  },
  {
   "cell_type": "code",
   "execution_count": null,
   "metadata": {},
   "outputs": [],
   "source": []
  },
  {
   "cell_type": "markdown",
   "metadata": {},
   "source": [
    "## 2. Сколько заказов в месяц в среднем не доставляется по разным причинам (вывести детализацию по причинам)?"
   ]
  },
  {
   "cell_type": "code",
   "execution_count": 95,
   "metadata": {},
   "outputs": [],
   "source": [
    "orders['order_purchase_month'] = orders['order_purchase_timestamp'].to_numpy().astype('datetime64[M]')"
   ]
  },
  {
   "cell_type": "code",
   "execution_count": 96,
   "metadata": {},
   "outputs": [],
   "source": [
    "not_delivered_orders = orders\\\n",
    "    .query('order_status in (\"approved\", \"processing\", \"shipped\")')\\\n",
    "    .groupby(['order_purchase_month', 'order_status'], as_index=False)\\\n",
    "    .agg({'order_id': 'count'})"
   ]
  },
  {
   "cell_type": "code",
   "execution_count": 97,
   "metadata": {},
   "outputs": [
    {
     "data": {
      "text/html": [
       "<div>\n",
       "<style scoped>\n",
       "    .dataframe tbody tr th:only-of-type {\n",
       "        vertical-align: middle;\n",
       "    }\n",
       "\n",
       "    .dataframe tbody tr th {\n",
       "        vertical-align: top;\n",
       "    }\n",
       "\n",
       "    .dataframe thead th {\n",
       "        text-align: right;\n",
       "    }\n",
       "</style>\n",
       "<table border=\"1\" class=\"dataframe\">\n",
       "  <thead>\n",
       "    <tr style=\"text-align: right;\">\n",
       "      <th></th>\n",
       "      <th>order_purchase_month</th>\n",
       "      <th>order_status</th>\n",
       "      <th>order_id</th>\n",
       "    </tr>\n",
       "  </thead>\n",
       "  <tbody>\n",
       "    <tr>\n",
       "      <th>0</th>\n",
       "      <td>2016-09-01</td>\n",
       "      <td>shipped</td>\n",
       "      <td>1</td>\n",
       "    </tr>\n",
       "    <tr>\n",
       "      <th>1</th>\n",
       "      <td>2016-10-01</td>\n",
       "      <td>processing</td>\n",
       "      <td>2</td>\n",
       "    </tr>\n",
       "    <tr>\n",
       "      <th>2</th>\n",
       "      <td>2016-10-01</td>\n",
       "      <td>shipped</td>\n",
       "      <td>8</td>\n",
       "    </tr>\n",
       "    <tr>\n",
       "      <th>3</th>\n",
       "      <td>2017-01-01</td>\n",
       "      <td>processing</td>\n",
       "      <td>9</td>\n",
       "    </tr>\n",
       "    <tr>\n",
       "      <th>4</th>\n",
       "      <td>2017-01-01</td>\n",
       "      <td>shipped</td>\n",
       "      <td>16</td>\n",
       "    </tr>\n",
       "  </tbody>\n",
       "</table>\n",
       "</div>"
      ],
      "text/plain": [
       "  order_purchase_month order_status  order_id\n",
       "0           2016-09-01      shipped         1\n",
       "1           2016-10-01   processing         2\n",
       "2           2016-10-01      shipped         8\n",
       "3           2017-01-01   processing         9\n",
       "4           2017-01-01      shipped        16"
      ]
     },
     "execution_count": 97,
     "metadata": {},
     "output_type": "execute_result"
    }
   ],
   "source": [
    "not_delivered_orders.head()"
   ]
  },
  {
   "cell_type": "code",
   "execution_count": 98,
   "metadata": {},
   "outputs": [
    {
     "data": {
      "text/plain": [
       "<matplotlib.axes._subplots.AxesSubplot at 0x7f9acdca1128>"
      ]
     },
     "execution_count": 98,
     "metadata": {},
     "output_type": "execute_result"
    },
    {
     "data": {
      "image/png": "[encoded data removed]",
      "text/plain": [
       "<Figure size 1152x720 with 1 Axes>"
      ]
     },
     "metadata": {
      "needs_background": "light"
     },
     "output_type": "display_data"
    }
   ],
   "source": [
    "plt.figure(figsize=(16,10))\n",
    "sns.lineplot(x='order_purchase_month', y='order_id', hue='order_status', data=not_delivered_orders)"
   ]
  },
  {
   "cell_type": "markdown",
   "metadata": {},
   "source": [
    "Как видно из графика в основном заказ только отгружен со склада"
   ]
  },
  {
   "cell_type": "markdown",
   "metadata": {},
   "source": [
    "## 3. По каждому товару определить, в какой день недели товар чаще всего покупается."
   ]
  },
  {
   "cell_type": "code",
   "execution_count": 99,
   "metadata": {},
   "outputs": [],
   "source": [
    "products_in_orders = orders.merge(order_items, how='right', on='order_id')"
   ]
  },
  {
   "cell_type": "code",
   "execution_count": 100,
   "metadata": {},
   "outputs": [
    {
     "data": {
      "text/html": [
       "<div>\n",
       "<style scoped>\n",
       "    .dataframe tbody tr th:only-of-type {\n",
       "        vertical-align: middle;\n",
       "    }\n",
       "\n",
       "    .dataframe tbody tr th {\n",
       "        vertical-align: top;\n",
       "    }\n",
       "\n",
       "    .dataframe thead th {\n",
       "        text-align: right;\n",
       "    }\n",
       "</style>\n",
       "<table border=\"1\" class=\"dataframe\">\n",
       "  <thead>\n",
       "    <tr style=\"text-align: right;\">\n",
       "      <th></th>\n",
       "      <th>order_id</th>\n",
       "      <th>customer_id</th>\n",
       "      <th>order_status</th>\n",
       "      <th>order_purchase_timestamp</th>\n",
       "      <th>order_approved_at</th>\n",
       "      <th>order_delivered_carrier_date</th>\n",
       "      <th>order_delivered_customer_date</th>\n",
       "      <th>order_estimated_delivery_date</th>\n",
       "      <th>order_purchase_month</th>\n",
       "      <th>order_item_id</th>\n",
       "      <th>product_id</th>\n",
       "      <th>seller_id</th>\n",
       "      <th>shipping_limit_date</th>\n",
       "      <th>price</th>\n",
       "      <th>freight_value</th>\n",
       "    </tr>\n",
       "  </thead>\n",
       "  <tbody>\n",
       "    <tr>\n",
       "      <th>111764</th>\n",
       "      <td>fde2b2f46bb69e2359b74ff7606de899</td>\n",
       "      <td>077e8825452efc8df7289444b1226930</td>\n",
       "      <td>delivered</td>\n",
       "      <td>2017-06-23 21:07:46</td>\n",
       "      <td>2017-06-23 21:23:09</td>\n",
       "      <td>2017-06-27 10:04:26</td>\n",
       "      <td>2017-07-03 13:22:08</td>\n",
       "      <td>2017-07-13</td>\n",
       "      <td>2017-06-01</td>\n",
       "      <td>1</td>\n",
       "      <td>faec279ddbbce3de75d2adf10f612a5e</td>\n",
       "      <td>e26901d5ab434ce92fd9b5c256820a4e</td>\n",
       "      <td>2017-06-28 21:23:09</td>\n",
       "      <td>119.90</td>\n",
       "      <td>16.47</td>\n",
       "    </tr>\n",
       "    <tr>\n",
       "      <th>61080</th>\n",
       "      <td>8b378967566499beb14fbb0fc0edd2ed</td>\n",
       "      <td>64befe40ea8fa23ae79c102633305671</td>\n",
       "      <td>delivered</td>\n",
       "      <td>2018-06-26 18:25:34</td>\n",
       "      <td>2018-06-26 18:43:53</td>\n",
       "      <td>2018-06-27 08:35:00</td>\n",
       "      <td>2018-06-28 16:58:50</td>\n",
       "      <td>2018-07-13</td>\n",
       "      <td>2018-06-01</td>\n",
       "      <td>1</td>\n",
       "      <td>7329d78e4f4ab3101c7e5fc53fb0aebb</td>\n",
       "      <td>40d54b51e962dbe09cabbcfd33298dee</td>\n",
       "      <td>2018-07-02 18:43:53</td>\n",
       "      <td>399.00</td>\n",
       "      <td>11.54</td>\n",
       "    </tr>\n",
       "    <tr>\n",
       "      <th>70265</th>\n",
       "      <td>a04b6ad9c324577c000835fca4587931</td>\n",
       "      <td>84da725dbe39aa4d9c3005e868b26b0c</td>\n",
       "      <td>delivered</td>\n",
       "      <td>2018-02-08 08:43:00</td>\n",
       "      <td>2018-02-09 02:50:32</td>\n",
       "      <td>2018-02-19 15:09:22</td>\n",
       "      <td>2018-02-27 18:51:20</td>\n",
       "      <td>2018-03-07</td>\n",
       "      <td>2018-02-01</td>\n",
       "      <td>1</td>\n",
       "      <td>dc9471db933efad7bf0ce685380578bd</td>\n",
       "      <td>25c5c91f63607446a97b143d2d535d31</td>\n",
       "      <td>2018-02-15 02:50:32</td>\n",
       "      <td>276.89</td>\n",
       "      <td>19.19</td>\n",
       "    </tr>\n",
       "    <tr>\n",
       "      <th>30502</th>\n",
       "      <td>453c6f368bd52d7a2c03f6cc81ccf9d8</td>\n",
       "      <td>511ef0347dfb82cddc47df9a7dbd6c64</td>\n",
       "      <td>delivered</td>\n",
       "      <td>2017-11-04 10:25:02</td>\n",
       "      <td>2017-11-04 10:36:10</td>\n",
       "      <td>2017-11-06 20:48:36</td>\n",
       "      <td>2017-11-09 16:56:51</td>\n",
       "      <td>2017-11-24</td>\n",
       "      <td>2017-11-01</td>\n",
       "      <td>1</td>\n",
       "      <td>7b2c4d6fa7d8e50000ac4c7fca609790</td>\n",
       "      <td>f262cbc1c910c83959f849465454ddd3</td>\n",
       "      <td>2017-11-09 10:35:40</td>\n",
       "      <td>35.99</td>\n",
       "      <td>11.85</td>\n",
       "    </tr>\n",
       "    <tr>\n",
       "      <th>6490</th>\n",
       "      <td>0eb90012b8c41dfd386552415c3b1760</td>\n",
       "      <td>6f380f1105060ce0abf373c93619c6ee</td>\n",
       "      <td>delivered</td>\n",
       "      <td>2018-05-08 09:03:53</td>\n",
       "      <td>2018-05-08 09:15:19</td>\n",
       "      <td>2018-05-14 09:30:00</td>\n",
       "      <td>2018-05-24 21:21:29</td>\n",
       "      <td>2018-06-08</td>\n",
       "      <td>2018-05-01</td>\n",
       "      <td>1</td>\n",
       "      <td>41db6d8062fcd38410c699743ccc0265</td>\n",
       "      <td>92eb0f42c21942b6552362b9b114707d</td>\n",
       "      <td>2018-05-16 09:15:19</td>\n",
       "      <td>13.77</td>\n",
       "      <td>16.41</td>\n",
       "    </tr>\n",
       "  </tbody>\n",
       "</table>\n",
       "</div>"
      ],
      "text/plain": [
       "                                order_id                       customer_id  \\\n",
       "111764  fde2b2f46bb69e2359b74ff7606de899  077e8825452efc8df7289444b1226930   \n",
       "61080   8b378967566499beb14fbb0fc0edd2ed  64befe40ea8fa23ae79c102633305671   \n",
       "70265   a04b6ad9c324577c000835fca4587931  84da725dbe39aa4d9c3005e868b26b0c   \n",
       "30502   453c6f368bd52d7a2c03f6cc81ccf9d8  511ef0347dfb82cddc47df9a7dbd6c64   \n",
       "6490    0eb90012b8c41dfd386552415c3b1760  6f380f1105060ce0abf373c93619c6ee   \n",
       "\n",
       "       order_status order_purchase_timestamp   order_approved_at  \\\n",
       "111764    delivered      2017-06-23 21:07:46 2017-06-23 21:23:09   \n",
       "61080     delivered      2018-06-26 18:25:34 2018-06-26 18:43:53   \n",
       "70265     delivered      2018-02-08 08:43:00 2018-02-09 02:50:32   \n",
       "30502     delivered      2017-11-04 10:25:02 2017-11-04 10:36:10   \n",
       "6490      delivered      2018-05-08 09:03:53 2018-05-08 09:15:19   \n",
       "\n",
       "       order_delivered_carrier_date order_delivered_customer_date  \\\n",
       "111764          2017-06-27 10:04:26           2017-07-03 13:22:08   \n",
       "61080           2018-06-27 08:35:00           2018-06-28 16:58:50   \n",
       "70265           2018-02-19 15:09:22           2018-02-27 18:51:20   \n",
       "30502           2017-11-06 20:48:36           2017-11-09 16:56:51   \n",
       "6490            2018-05-14 09:30:00           2018-05-24 21:21:29   \n",
       "\n",
       "       order_estimated_delivery_date order_purchase_month  order_item_id  \\\n",
       "111764                    2017-07-13           2017-06-01              1   \n",
       "61080                     2018-07-13           2018-06-01              1   \n",
       "70265                     2018-03-07           2018-02-01              1   \n",
       "30502                     2017-11-24           2017-11-01              1   \n",
       "6490                      2018-06-08           2018-05-01              1   \n",
       "\n",
       "                              product_id                         seller_id  \\\n",
       "111764  faec279ddbbce3de75d2adf10f612a5e  e26901d5ab434ce92fd9b5c256820a4e   \n",
       "61080   7329d78e4f4ab3101c7e5fc53fb0aebb  40d54b51e962dbe09cabbcfd33298dee   \n",
       "70265   dc9471db933efad7bf0ce685380578bd  25c5c91f63607446a97b143d2d535d31   \n",
       "30502   7b2c4d6fa7d8e50000ac4c7fca609790  f262cbc1c910c83959f849465454ddd3   \n",
       "6490    41db6d8062fcd38410c699743ccc0265  92eb0f42c21942b6552362b9b114707d   \n",
       "\n",
       "        shipping_limit_date   price  freight_value  \n",
       "111764  2017-06-28 21:23:09  119.90          16.47  \n",
       "61080   2018-07-02 18:43:53  399.00          11.54  \n",
       "70265   2018-02-15 02:50:32  276.89          19.19  \n",
       "30502   2017-11-09 10:35:40   35.99          11.85  \n",
       "6490    2018-05-16 09:15:19   13.77          16.41  "
      ]
     },
     "execution_count": 100,
     "metadata": {},
     "output_type": "execute_result"
    }
   ],
   "source": [
    "products_in_orders.sample(5, random_state=0)"
   ]
  },
  {
   "cell_type": "code",
   "execution_count": 101,
   "metadata": {},
   "outputs": [
    {
     "name": "stdout",
     "output_type": "stream",
     "text": [
      "<class 'pandas.core.frame.DataFrame'>\n",
      "Int64Index: 112650 entries, 0 to 112649\n",
      "Data columns (total 15 columns):\n",
      " #   Column                         Non-Null Count   Dtype         \n",
      "---  ------                         --------------   -----         \n",
      " 0   order_id                       112650 non-null  object        \n",
      " 1   customer_id                    112650 non-null  object        \n",
      " 2   order_status                   112650 non-null  object        \n",
      " 3   order_purchase_timestamp       112650 non-null  datetime64[ns]\n",
      " 4   order_approved_at              112635 non-null  datetime64[ns]\n",
      " 5   order_delivered_carrier_date   111456 non-null  datetime64[ns]\n",
      " 6   order_delivered_customer_date  110196 non-null  datetime64[ns]\n",
      " 7   order_estimated_delivery_date  112650 non-null  datetime64[ns]\n",
      " 8   order_purchase_month           112650 non-null  datetime64[ns]\n",
      " 9   order_item_id                  112650 non-null  int64         \n",
      " 10  product_id                     112650 non-null  object        \n",
      " 11  seller_id                      112650 non-null  object        \n",
      " 12  shipping_limit_date            112650 non-null  object        \n",
      " 13  price                          112650 non-null  float64       \n",
      " 14  freight_value                  112650 non-null  float64       \n",
      "dtypes: datetime64[ns](6), float64(2), int64(1), object(6)\n",
      "memory usage: 13.8+ MB\n"
     ]
    }
   ],
   "source": [
    "products_in_orders.info()"
   ]
  },
  {
   "cell_type": "code",
   "execution_count": 102,
   "metadata": {},
   "outputs": [],
   "source": [
    "products_in_orders['weekday'] = products_in_orders.order_approved_at.dt.day_name()"
   ]
  },
  {
   "cell_type": "code",
   "execution_count": 103,
   "metadata": {},
   "outputs": [],
   "source": [
    "prods_bought_by_weekday = products_in_orders\\\n",
    "    .query('order_status in (\"delivered\", \"approved\", \"processing\", \"shipped\")')\\\n",
    "    .groupby(['order_item_id', 'weekday'], as_index=False)\\\n",
    "    .agg({'order_id': 'count'}).rename(columns={'order_id': 'order_count'})"
   ]
  },
  {
   "cell_type": "code",
   "execution_count": 104,
   "metadata": {},
   "outputs": [],
   "source": [
    "prods_bought_by_weekday['is_maximum'] = np.where(\n",
    "                                            prods_bought_by_weekday.index.isin(\n",
    "                                                    (prods_bought_by_weekday.groupby('order_item_id')['order_count'].idxmax())\n",
    "                                                ), 1, 0)"
   ]
  },
  {
   "cell_type": "code",
   "execution_count": 105,
   "metadata": {},
   "outputs": [
    {
     "data": {
      "text/html": [
       "<div>\n",
       "<style scoped>\n",
       "    .dataframe tbody tr th:only-of-type {\n",
       "        vertical-align: middle;\n",
       "    }\n",
       "\n",
       "    .dataframe tbody tr th {\n",
       "        vertical-align: top;\n",
       "    }\n",
       "\n",
       "    .dataframe thead th {\n",
       "        text-align: right;\n",
       "    }\n",
       "</style>\n",
       "<table border=\"1\" class=\"dataframe\">\n",
       "  <thead>\n",
       "    <tr style=\"text-align: right;\">\n",
       "      <th></th>\n",
       "      <th>order_item_id</th>\n",
       "      <th>weekday</th>\n",
       "      <th>order_count</th>\n",
       "      <th>is_maximum</th>\n",
       "    </tr>\n",
       "  </thead>\n",
       "  <tbody>\n",
       "    <tr>\n",
       "      <th>5</th>\n",
       "      <td>1</td>\n",
       "      <td>Tuesday</td>\n",
       "      <td>18883</td>\n",
       "      <td>1</td>\n",
       "    </tr>\n",
       "    <tr>\n",
       "      <th>12</th>\n",
       "      <td>2</td>\n",
       "      <td>Tuesday</td>\n",
       "      <td>1930</td>\n",
       "      <td>1</td>\n",
       "    </tr>\n",
       "    <tr>\n",
       "      <th>19</th>\n",
       "      <td>3</td>\n",
       "      <td>Tuesday</td>\n",
       "      <td>457</td>\n",
       "      <td>1</td>\n",
       "    </tr>\n",
       "    <tr>\n",
       "      <th>26</th>\n",
       "      <td>4</td>\n",
       "      <td>Tuesday</td>\n",
       "      <td>176</td>\n",
       "      <td>1</td>\n",
       "    </tr>\n",
       "    <tr>\n",
       "      <th>33</th>\n",
       "      <td>5</td>\n",
       "      <td>Tuesday</td>\n",
       "      <td>87</td>\n",
       "      <td>1</td>\n",
       "    </tr>\n",
       "    <tr>\n",
       "      <th>39</th>\n",
       "      <td>6</td>\n",
       "      <td>Thursday</td>\n",
       "      <td>54</td>\n",
       "      <td>1</td>\n",
       "    </tr>\n",
       "    <tr>\n",
       "      <th>44</th>\n",
       "      <td>7</td>\n",
       "      <td>Saturday</td>\n",
       "      <td>10</td>\n",
       "      <td>1</td>\n",
       "    </tr>\n",
       "    <tr>\n",
       "      <th>49</th>\n",
       "      <td>8</td>\n",
       "      <td>Friday</td>\n",
       "      <td>8</td>\n",
       "      <td>1</td>\n",
       "    </tr>\n",
       "    <tr>\n",
       "      <th>56</th>\n",
       "      <td>9</td>\n",
       "      <td>Friday</td>\n",
       "      <td>7</td>\n",
       "      <td>1</td>\n",
       "    </tr>\n",
       "    <tr>\n",
       "      <th>63</th>\n",
       "      <td>10</td>\n",
       "      <td>Friday</td>\n",
       "      <td>6</td>\n",
       "      <td>1</td>\n",
       "    </tr>\n",
       "    <tr>\n",
       "      <th>70</th>\n",
       "      <td>11</td>\n",
       "      <td>Friday</td>\n",
       "      <td>4</td>\n",
       "      <td>1</td>\n",
       "    </tr>\n",
       "    <tr>\n",
       "      <th>76</th>\n",
       "      <td>12</td>\n",
       "      <td>Friday</td>\n",
       "      <td>3</td>\n",
       "      <td>1</td>\n",
       "    </tr>\n",
       "    <tr>\n",
       "      <th>82</th>\n",
       "      <td>13</td>\n",
       "      <td>Friday</td>\n",
       "      <td>2</td>\n",
       "      <td>1</td>\n",
       "    </tr>\n",
       "    <tr>\n",
       "      <th>86</th>\n",
       "      <td>14</td>\n",
       "      <td>Friday</td>\n",
       "      <td>2</td>\n",
       "      <td>1</td>\n",
       "    </tr>\n",
       "    <tr>\n",
       "      <th>91</th>\n",
       "      <td>15</td>\n",
       "      <td>Monday</td>\n",
       "      <td>2</td>\n",
       "      <td>1</td>\n",
       "    </tr>\n",
       "    <tr>\n",
       "      <th>94</th>\n",
       "      <td>16</td>\n",
       "      <td>Monday</td>\n",
       "      <td>1</td>\n",
       "      <td>1</td>\n",
       "    </tr>\n",
       "    <tr>\n",
       "      <th>97</th>\n",
       "      <td>17</td>\n",
       "      <td>Monday</td>\n",
       "      <td>1</td>\n",
       "      <td>1</td>\n",
       "    </tr>\n",
       "    <tr>\n",
       "      <th>100</th>\n",
       "      <td>18</td>\n",
       "      <td>Monday</td>\n",
       "      <td>1</td>\n",
       "      <td>1</td>\n",
       "    </tr>\n",
       "    <tr>\n",
       "      <th>103</th>\n",
       "      <td>19</td>\n",
       "      <td>Monday</td>\n",
       "      <td>1</td>\n",
       "      <td>1</td>\n",
       "    </tr>\n",
       "    <tr>\n",
       "      <th>106</th>\n",
       "      <td>20</td>\n",
       "      <td>Monday</td>\n",
       "      <td>1</td>\n",
       "      <td>1</td>\n",
       "    </tr>\n",
       "    <tr>\n",
       "      <th>109</th>\n",
       "      <td>21</td>\n",
       "      <td>Monday</td>\n",
       "      <td>1</td>\n",
       "      <td>1</td>\n",
       "    </tr>\n",
       "  </tbody>\n",
       "</table>\n",
       "</div>"
      ],
      "text/plain": [
       "     order_item_id   weekday  order_count  is_maximum\n",
       "5                1   Tuesday        18883           1\n",
       "12               2   Tuesday         1930           1\n",
       "19               3   Tuesday          457           1\n",
       "26               4   Tuesday          176           1\n",
       "33               5   Tuesday           87           1\n",
       "39               6  Thursday           54           1\n",
       "44               7  Saturday           10           1\n",
       "49               8    Friday            8           1\n",
       "56               9    Friday            7           1\n",
       "63              10    Friday            6           1\n",
       "70              11    Friday            4           1\n",
       "76              12    Friday            3           1\n",
       "82              13    Friday            2           1\n",
       "86              14    Friday            2           1\n",
       "91              15    Monday            2           1\n",
       "94              16    Monday            1           1\n",
       "97              17    Monday            1           1\n",
       "100             18    Monday            1           1\n",
       "103             19    Monday            1           1\n",
       "106             20    Monday            1           1\n",
       "109             21    Monday            1           1"
      ]
     },
     "execution_count": 105,
     "metadata": {},
     "output_type": "execute_result"
    }
   ],
   "source": [
    "prods_bought_by_weekday.query('is_maximum == 1')"
   ]
  },
  {
   "cell_type": "code",
   "execution_count": null,
   "metadata": {},
   "outputs": [],
   "source": []
  },
  {
   "cell_type": "markdown",
   "metadata": {},
   "source": [
    "## 4. Сколько у каждого из пользователей в среднем покупок в неделю (по месяцам)? Не стоит забывать, что внутри месяца может быть не целое количество недель. Например, в ноябре 2021 года 4,28 недели. И внутри метрики это нужно учесть."
   ]
  },
  {
   "cell_type": "code",
   "execution_count": 106,
   "metadata": {},
   "outputs": [
    {
     "data": {
      "text/html": [
       "<div>\n",
       "<style scoped>\n",
       "    .dataframe tbody tr th:only-of-type {\n",
       "        vertical-align: middle;\n",
       "    }\n",
       "\n",
       "    .dataframe tbody tr th {\n",
       "        vertical-align: top;\n",
       "    }\n",
       "\n",
       "    .dataframe thead th {\n",
       "        text-align: right;\n",
       "    }\n",
       "</style>\n",
       "<table border=\"1\" class=\"dataframe\">\n",
       "  <thead>\n",
       "    <tr style=\"text-align: right;\">\n",
       "      <th></th>\n",
       "      <th>order_id</th>\n",
       "      <th>customer_id</th>\n",
       "      <th>order_status</th>\n",
       "      <th>order_purchase_timestamp</th>\n",
       "      <th>order_approved_at</th>\n",
       "      <th>order_delivered_carrier_date</th>\n",
       "      <th>order_delivered_customer_date</th>\n",
       "      <th>order_estimated_delivery_date</th>\n",
       "      <th>order_purchase_month</th>\n",
       "    </tr>\n",
       "  </thead>\n",
       "  <tbody>\n",
       "    <tr>\n",
       "      <th>0</th>\n",
       "      <td>e481f51cbdc54678b7cc49136f2d6af7</td>\n",
       "      <td>9ef432eb6251297304e76186b10a928d</td>\n",
       "      <td>delivered</td>\n",
       "      <td>2017-10-02 10:56:33</td>\n",
       "      <td>2017-10-02 11:07:15</td>\n",
       "      <td>2017-10-04 19:55:00</td>\n",
       "      <td>2017-10-10 21:25:13</td>\n",
       "      <td>2017-10-18</td>\n",
       "      <td>2017-10-01</td>\n",
       "    </tr>\n",
       "    <tr>\n",
       "      <th>1</th>\n",
       "      <td>53cdb2fc8bc7dce0b6741e2150273451</td>\n",
       "      <td>b0830fb4747a6c6d20dea0b8c802d7ef</td>\n",
       "      <td>delivered</td>\n",
       "      <td>2018-07-24 20:41:37</td>\n",
       "      <td>2018-07-26 03:24:27</td>\n",
       "      <td>2018-07-26 14:31:00</td>\n",
       "      <td>2018-08-07 15:27:45</td>\n",
       "      <td>2018-08-13</td>\n",
       "      <td>2018-07-01</td>\n",
       "    </tr>\n",
       "    <tr>\n",
       "      <th>2</th>\n",
       "      <td>47770eb9100c2d0c44946d9cf07ec65d</td>\n",
       "      <td>41ce2a54c0b03bf3443c3d931a367089</td>\n",
       "      <td>delivered</td>\n",
       "      <td>2018-08-08 08:38:49</td>\n",
       "      <td>2018-08-08 08:55:23</td>\n",
       "      <td>2018-08-08 13:50:00</td>\n",
       "      <td>2018-08-17 18:06:29</td>\n",
       "      <td>2018-09-04</td>\n",
       "      <td>2018-08-01</td>\n",
       "    </tr>\n",
       "    <tr>\n",
       "      <th>3</th>\n",
       "      <td>949d5b44dbf5de918fe9c16f97b45f8a</td>\n",
       "      <td>f88197465ea7920adcdbec7375364d82</td>\n",
       "      <td>delivered</td>\n",
       "      <td>2017-11-18 19:28:06</td>\n",
       "      <td>2017-11-18 19:45:59</td>\n",
       "      <td>2017-11-22 13:39:59</td>\n",
       "      <td>2017-12-02 00:28:42</td>\n",
       "      <td>2017-12-15</td>\n",
       "      <td>2017-11-01</td>\n",
       "    </tr>\n",
       "    <tr>\n",
       "      <th>4</th>\n",
       "      <td>ad21c59c0840e6cb83a9ceb5573f8159</td>\n",
       "      <td>8ab97904e6daea8866dbdbc4fb7aad2c</td>\n",
       "      <td>delivered</td>\n",
       "      <td>2018-02-13 21:18:39</td>\n",
       "      <td>2018-02-13 22:20:29</td>\n",
       "      <td>2018-02-14 19:46:34</td>\n",
       "      <td>2018-02-16 18:17:02</td>\n",
       "      <td>2018-02-26</td>\n",
       "      <td>2018-02-01</td>\n",
       "    </tr>\n",
       "  </tbody>\n",
       "</table>\n",
       "</div>"
      ],
      "text/plain": [
       "                           order_id                       customer_id  \\\n",
       "0  e481f51cbdc54678b7cc49136f2d6af7  9ef432eb6251297304e76186b10a928d   \n",
       "1  53cdb2fc8bc7dce0b6741e2150273451  b0830fb4747a6c6d20dea0b8c802d7ef   \n",
       "2  47770eb9100c2d0c44946d9cf07ec65d  41ce2a54c0b03bf3443c3d931a367089   \n",
       "3  949d5b44dbf5de918fe9c16f97b45f8a  f88197465ea7920adcdbec7375364d82   \n",
       "4  ad21c59c0840e6cb83a9ceb5573f8159  8ab97904e6daea8866dbdbc4fb7aad2c   \n",
       "\n",
       "  order_status order_purchase_timestamp   order_approved_at  \\\n",
       "0    delivered      2017-10-02 10:56:33 2017-10-02 11:07:15   \n",
       "1    delivered      2018-07-24 20:41:37 2018-07-26 03:24:27   \n",
       "2    delivered      2018-08-08 08:38:49 2018-08-08 08:55:23   \n",
       "3    delivered      2017-11-18 19:28:06 2017-11-18 19:45:59   \n",
       "4    delivered      2018-02-13 21:18:39 2018-02-13 22:20:29   \n",
       "\n",
       "  order_delivered_carrier_date order_delivered_customer_date  \\\n",
       "0          2017-10-04 19:55:00           2017-10-10 21:25:13   \n",
       "1          2018-07-26 14:31:00           2018-08-07 15:27:45   \n",
       "2          2018-08-08 13:50:00           2018-08-17 18:06:29   \n",
       "3          2017-11-22 13:39:59           2017-12-02 00:28:42   \n",
       "4          2018-02-14 19:46:34           2018-02-16 18:17:02   \n",
       "\n",
       "  order_estimated_delivery_date order_purchase_month  \n",
       "0                    2017-10-18           2017-10-01  \n",
       "1                    2018-08-13           2018-07-01  \n",
       "2                    2018-09-04           2018-08-01  \n",
       "3                    2017-12-15           2017-11-01  \n",
       "4                    2018-02-26           2018-02-01  "
      ]
     },
     "execution_count": 106,
     "metadata": {},
     "output_type": "execute_result"
    }
   ],
   "source": [
    "orders.head()"
   ]
  },
  {
   "cell_type": "code",
   "execution_count": 107,
   "metadata": {},
   "outputs": [],
   "source": [
    "customers_and_orders = customers.merge(orders, how='inner', on='customer_id')"
   ]
  },
  {
   "cell_type": "code",
   "execution_count": 108,
   "metadata": {},
   "outputs": [],
   "source": [
    "customers_and_orders['order_approved_month'] = customers_and_orders['order_approved_at'].to_numpy().astype('datetime64[M]')"
   ]
  },
  {
   "cell_type": "code",
   "execution_count": 109,
   "metadata": {},
   "outputs": [],
   "source": [
    "customers_and_orders['weeks_in_month'] = customers_and_orders.order_approved_month.dt.days_in_month / 7"
   ]
  },
  {
   "cell_type": "code",
   "execution_count": 110,
   "metadata": {},
   "outputs": [],
   "source": [
    "customer_order_count_by_month = customers_and_orders\\\n",
    "    .query('order_status in (\"delivered\", \"approved\", \"processing\", \"shipped\")')\\\n",
    "    .groupby(['customer_unique_id', 'order_approved_month', 'weeks_in_month'], as_index=False)\\\n",
    "    .agg({'order_id': 'count'}).rename(columns={'order_id': 'order_count'})"
   ]
  },
  {
   "cell_type": "code",
   "execution_count": 111,
   "metadata": {},
   "outputs": [],
   "source": [
    "customer_order_count_by_month['avg_order_by_cust'] = customer_order_count_by_month.order_count / customer_order_count_by_month.weeks_in_month"
   ]
  },
  {
   "cell_type": "markdown",
   "metadata": {},
   "source": [
    "Проверим, что считаем именно по месяцам"
   ]
  },
  {
   "cell_type": "code",
   "execution_count": 112,
   "metadata": {
    "scrolled": true
   },
   "outputs": [
    {
     "data": {
      "text/html": [
       "<div>\n",
       "<style scoped>\n",
       "    .dataframe tbody tr th:only-of-type {\n",
       "        vertical-align: middle;\n",
       "    }\n",
       "\n",
       "    .dataframe tbody tr th {\n",
       "        vertical-align: top;\n",
       "    }\n",
       "\n",
       "    .dataframe thead th {\n",
       "        text-align: right;\n",
       "    }\n",
       "</style>\n",
       "<table border=\"1\" class=\"dataframe\">\n",
       "  <thead>\n",
       "    <tr style=\"text-align: right;\">\n",
       "      <th></th>\n",
       "      <th>customer_unique_id</th>\n",
       "      <th>order_approved_month</th>\n",
       "      <th>weeks_in_month</th>\n",
       "      <th>order_count</th>\n",
       "      <th>avg_order_by_cust</th>\n",
       "    </tr>\n",
       "  </thead>\n",
       "  <tbody>\n",
       "    <tr>\n",
       "      <th>53192</th>\n",
       "      <td>8d50f5eadf50201ccdcedfb9e2ac8455</td>\n",
       "      <td>2017-05-01</td>\n",
       "      <td>4.428571</td>\n",
       "      <td>1</td>\n",
       "      <td>0.225806</td>\n",
       "    </tr>\n",
       "    <tr>\n",
       "      <th>53193</th>\n",
       "      <td>8d50f5eadf50201ccdcedfb9e2ac8455</td>\n",
       "      <td>2017-06-01</td>\n",
       "      <td>4.285714</td>\n",
       "      <td>1</td>\n",
       "      <td>0.233333</td>\n",
       "    </tr>\n",
       "    <tr>\n",
       "      <th>53194</th>\n",
       "      <td>8d50f5eadf50201ccdcedfb9e2ac8455</td>\n",
       "      <td>2017-07-01</td>\n",
       "      <td>4.428571</td>\n",
       "      <td>2</td>\n",
       "      <td>0.451613</td>\n",
       "    </tr>\n",
       "    <tr>\n",
       "      <th>53195</th>\n",
       "      <td>8d50f5eadf50201ccdcedfb9e2ac8455</td>\n",
       "      <td>2017-08-01</td>\n",
       "      <td>4.428571</td>\n",
       "      <td>1</td>\n",
       "      <td>0.225806</td>\n",
       "    </tr>\n",
       "    <tr>\n",
       "      <th>53196</th>\n",
       "      <td>8d50f5eadf50201ccdcedfb9e2ac8455</td>\n",
       "      <td>2017-09-01</td>\n",
       "      <td>4.285714</td>\n",
       "      <td>1</td>\n",
       "      <td>0.233333</td>\n",
       "    </tr>\n",
       "    <tr>\n",
       "      <th>53197</th>\n",
       "      <td>8d50f5eadf50201ccdcedfb9e2ac8455</td>\n",
       "      <td>2017-10-01</td>\n",
       "      <td>4.428571</td>\n",
       "      <td>2</td>\n",
       "      <td>0.451613</td>\n",
       "    </tr>\n",
       "    <tr>\n",
       "      <th>53198</th>\n",
       "      <td>8d50f5eadf50201ccdcedfb9e2ac8455</td>\n",
       "      <td>2017-11-01</td>\n",
       "      <td>4.285714</td>\n",
       "      <td>1</td>\n",
       "      <td>0.233333</td>\n",
       "    </tr>\n",
       "    <tr>\n",
       "      <th>53199</th>\n",
       "      <td>8d50f5eadf50201ccdcedfb9e2ac8455</td>\n",
       "      <td>2018-05-01</td>\n",
       "      <td>4.428571</td>\n",
       "      <td>2</td>\n",
       "      <td>0.451613</td>\n",
       "    </tr>\n",
       "    <tr>\n",
       "      <th>53200</th>\n",
       "      <td>8d50f5eadf50201ccdcedfb9e2ac8455</td>\n",
       "      <td>2018-07-01</td>\n",
       "      <td>4.428571</td>\n",
       "      <td>2</td>\n",
       "      <td>0.451613</td>\n",
       "    </tr>\n",
       "    <tr>\n",
       "      <th>53201</th>\n",
       "      <td>8d50f5eadf50201ccdcedfb9e2ac8455</td>\n",
       "      <td>2018-08-01</td>\n",
       "      <td>4.428571</td>\n",
       "      <td>3</td>\n",
       "      <td>0.677419</td>\n",
       "    </tr>\n",
       "  </tbody>\n",
       "</table>\n",
       "</div>"
      ],
      "text/plain": [
       "                     customer_unique_id order_approved_month  weeks_in_month  \\\n",
       "53192  8d50f5eadf50201ccdcedfb9e2ac8455           2017-05-01        4.428571   \n",
       "53193  8d50f5eadf50201ccdcedfb9e2ac8455           2017-06-01        4.285714   \n",
       "53194  8d50f5eadf50201ccdcedfb9e2ac8455           2017-07-01        4.428571   \n",
       "53195  8d50f5eadf50201ccdcedfb9e2ac8455           2017-08-01        4.428571   \n",
       "53196  8d50f5eadf50201ccdcedfb9e2ac8455           2017-09-01        4.285714   \n",
       "53197  8d50f5eadf50201ccdcedfb9e2ac8455           2017-10-01        4.428571   \n",
       "53198  8d50f5eadf50201ccdcedfb9e2ac8455           2017-11-01        4.285714   \n",
       "53199  8d50f5eadf50201ccdcedfb9e2ac8455           2018-05-01        4.428571   \n",
       "53200  8d50f5eadf50201ccdcedfb9e2ac8455           2018-07-01        4.428571   \n",
       "53201  8d50f5eadf50201ccdcedfb9e2ac8455           2018-08-01        4.428571   \n",
       "\n",
       "       order_count  avg_order_by_cust  \n",
       "53192            1           0.225806  \n",
       "53193            1           0.233333  \n",
       "53194            2           0.451613  \n",
       "53195            1           0.225806  \n",
       "53196            1           0.233333  \n",
       "53197            2           0.451613  \n",
       "53198            1           0.233333  \n",
       "53199            2           0.451613  \n",
       "53200            2           0.451613  \n",
       "53201            3           0.677419  "
      ]
     },
     "execution_count": 112,
     "metadata": {},
     "output_type": "execute_result"
    }
   ],
   "source": [
    "customer_order_count_by_month.query('customer_unique_id == \"8d50f5eadf50201ccdcedfb9e2ac8455\"')"
   ]
  },
  {
   "cell_type": "code",
   "execution_count": 113,
   "metadata": {
    "scrolled": true
   },
   "outputs": [
    {
     "data": {
      "text/plain": [
       "0.225806    58141\n",
       "0.233333    29196\n",
       "0.250000     7937\n",
       "0.451613      726\n",
       "0.466667      330\n",
       "0.500000      161\n",
       "0.677419       25\n",
       "0.700000       13\n",
       "0.750000        6\n",
       "1.000000        3\n",
       "0.903226        2\n",
       "0.933333        2\n",
       "1.354839        1\n",
       "Name: avg_order_by_cust, dtype: int64"
      ]
     },
     "execution_count": 113,
     "metadata": {},
     "output_type": "execute_result"
    }
   ],
   "source": [
    "customer_order_count_by_month.avg_order_by_cust.value_counts()"
   ]
  },
  {
   "cell_type": "code",
   "execution_count": null,
   "metadata": {},
   "outputs": [],
   "source": []
  },
  {
   "cell_type": "markdown",
   "metadata": {},
   "source": [
    "## 5. Когортный анализ. В период с января по декабрь выяви когорту с самым высоким retention на 3й месяц"
   ]
  },
  {
   "cell_type": "code",
   "execution_count": 114,
   "metadata": {},
   "outputs": [
    {
     "data": {
      "text/html": [
       "<div>\n",
       "<style scoped>\n",
       "    .dataframe tbody tr th:only-of-type {\n",
       "        vertical-align: middle;\n",
       "    }\n",
       "\n",
       "    .dataframe tbody tr th {\n",
       "        vertical-align: top;\n",
       "    }\n",
       "\n",
       "    .dataframe thead th {\n",
       "        text-align: right;\n",
       "    }\n",
       "</style>\n",
       "<table border=\"1\" class=\"dataframe\">\n",
       "  <thead>\n",
       "    <tr style=\"text-align: right;\">\n",
       "      <th></th>\n",
       "      <th>order_id</th>\n",
       "      <th>customer_id</th>\n",
       "      <th>order_status</th>\n",
       "      <th>order_purchase_timestamp</th>\n",
       "      <th>order_approved_at</th>\n",
       "      <th>order_delivered_carrier_date</th>\n",
       "      <th>order_delivered_customer_date</th>\n",
       "      <th>order_estimated_delivery_date</th>\n",
       "      <th>order_purchase_month</th>\n",
       "    </tr>\n",
       "  </thead>\n",
       "  <tbody>\n",
       "    <tr>\n",
       "      <th>0</th>\n",
       "      <td>e481f51cbdc54678b7cc49136f2d6af7</td>\n",
       "      <td>9ef432eb6251297304e76186b10a928d</td>\n",
       "      <td>delivered</td>\n",
       "      <td>2017-10-02 10:56:33</td>\n",
       "      <td>2017-10-02 11:07:15</td>\n",
       "      <td>2017-10-04 19:55:00</td>\n",
       "      <td>2017-10-10 21:25:13</td>\n",
       "      <td>2017-10-18</td>\n",
       "      <td>2017-10-01</td>\n",
       "    </tr>\n",
       "    <tr>\n",
       "      <th>1</th>\n",
       "      <td>53cdb2fc8bc7dce0b6741e2150273451</td>\n",
       "      <td>b0830fb4747a6c6d20dea0b8c802d7ef</td>\n",
       "      <td>delivered</td>\n",
       "      <td>2018-07-24 20:41:37</td>\n",
       "      <td>2018-07-26 03:24:27</td>\n",
       "      <td>2018-07-26 14:31:00</td>\n",
       "      <td>2018-08-07 15:27:45</td>\n",
       "      <td>2018-08-13</td>\n",
       "      <td>2018-07-01</td>\n",
       "    </tr>\n",
       "    <tr>\n",
       "      <th>2</th>\n",
       "      <td>47770eb9100c2d0c44946d9cf07ec65d</td>\n",
       "      <td>41ce2a54c0b03bf3443c3d931a367089</td>\n",
       "      <td>delivered</td>\n",
       "      <td>2018-08-08 08:38:49</td>\n",
       "      <td>2018-08-08 08:55:23</td>\n",
       "      <td>2018-08-08 13:50:00</td>\n",
       "      <td>2018-08-17 18:06:29</td>\n",
       "      <td>2018-09-04</td>\n",
       "      <td>2018-08-01</td>\n",
       "    </tr>\n",
       "    <tr>\n",
       "      <th>3</th>\n",
       "      <td>949d5b44dbf5de918fe9c16f97b45f8a</td>\n",
       "      <td>f88197465ea7920adcdbec7375364d82</td>\n",
       "      <td>delivered</td>\n",
       "      <td>2017-11-18 19:28:06</td>\n",
       "      <td>2017-11-18 19:45:59</td>\n",
       "      <td>2017-11-22 13:39:59</td>\n",
       "      <td>2017-12-02 00:28:42</td>\n",
       "      <td>2017-12-15</td>\n",
       "      <td>2017-11-01</td>\n",
       "    </tr>\n",
       "    <tr>\n",
       "      <th>4</th>\n",
       "      <td>ad21c59c0840e6cb83a9ceb5573f8159</td>\n",
       "      <td>8ab97904e6daea8866dbdbc4fb7aad2c</td>\n",
       "      <td>delivered</td>\n",
       "      <td>2018-02-13 21:18:39</td>\n",
       "      <td>2018-02-13 22:20:29</td>\n",
       "      <td>2018-02-14 19:46:34</td>\n",
       "      <td>2018-02-16 18:17:02</td>\n",
       "      <td>2018-02-26</td>\n",
       "      <td>2018-02-01</td>\n",
       "    </tr>\n",
       "  </tbody>\n",
       "</table>\n",
       "</div>"
      ],
      "text/plain": [
       "                           order_id                       customer_id  \\\n",
       "0  e481f51cbdc54678b7cc49136f2d6af7  9ef432eb6251297304e76186b10a928d   \n",
       "1  53cdb2fc8bc7dce0b6741e2150273451  b0830fb4747a6c6d20dea0b8c802d7ef   \n",
       "2  47770eb9100c2d0c44946d9cf07ec65d  41ce2a54c0b03bf3443c3d931a367089   \n",
       "3  949d5b44dbf5de918fe9c16f97b45f8a  f88197465ea7920adcdbec7375364d82   \n",
       "4  ad21c59c0840e6cb83a9ceb5573f8159  8ab97904e6daea8866dbdbc4fb7aad2c   \n",
       "\n",
       "  order_status order_purchase_timestamp   order_approved_at  \\\n",
       "0    delivered      2017-10-02 10:56:33 2017-10-02 11:07:15   \n",
       "1    delivered      2018-07-24 20:41:37 2018-07-26 03:24:27   \n",
       "2    delivered      2018-08-08 08:38:49 2018-08-08 08:55:23   \n",
       "3    delivered      2017-11-18 19:28:06 2017-11-18 19:45:59   \n",
       "4    delivered      2018-02-13 21:18:39 2018-02-13 22:20:29   \n",
       "\n",
       "  order_delivered_carrier_date order_delivered_customer_date  \\\n",
       "0          2017-10-04 19:55:00           2017-10-10 21:25:13   \n",
       "1          2018-07-26 14:31:00           2018-08-07 15:27:45   \n",
       "2          2018-08-08 13:50:00           2018-08-17 18:06:29   \n",
       "3          2017-11-22 13:39:59           2017-12-02 00:28:42   \n",
       "4          2018-02-14 19:46:34           2018-02-16 18:17:02   \n",
       "\n",
       "  order_estimated_delivery_date order_purchase_month  \n",
       "0                    2017-10-18           2017-10-01  \n",
       "1                    2018-08-13           2018-07-01  \n",
       "2                    2018-09-04           2018-08-01  \n",
       "3                    2017-12-15           2017-11-01  \n",
       "4                    2018-02-26           2018-02-01  "
      ]
     },
     "execution_count": 114,
     "metadata": {},
     "output_type": "execute_result"
    }
   ],
   "source": [
    "orders.head()"
   ]
  },
  {
   "cell_type": "code",
   "execution_count": 115,
   "metadata": {},
   "outputs": [
    {
     "data": {
      "text/plain": [
       "count                            99281\n",
       "mean     2017-12-31 18:35:24.098800384\n",
       "min                2016-09-15 12:16:38\n",
       "25%                2017-09-12 23:24:16\n",
       "50%                2018-01-19 11:36:13\n",
       "75%                2018-05-04 20:35:10\n",
       "max                2018-09-03 17:40:06\n",
       "Name: order_approved_at, dtype: object"
      ]
     },
     "execution_count": 115,
     "metadata": {},
     "output_type": "execute_result"
    }
   ],
   "source": [
    "orders.order_approved_at.describe(datetime_is_numeric=True)"
   ]
  },
  {
   "cell_type": "markdown",
   "metadata": {},
   "source": [
    "Возьмем наблюдения за 2017 год, так так только он содержит все месяцы с января по декабрь. Так же добавим туда наблюдения за 2018 год до 1 апреля, т.е. возьмем запас в 3 месяца для людей, совершивших покупку в конце 2017 года"
   ]
  },
  {
   "cell_type": "code",
   "execution_count": 117,
   "metadata": {},
   "outputs": [],
   "source": [
    "cohort_data = orders.copy()\n",
    "cohort_data = cohort_data\\\n",
    "    [cohort_data.order_purchase_timestamp.between('2017-01-01', '2018-04-01')]\\\n",
    "    .query('order_status in (\"delivered\", \"approved\", \"processing\", \"shipped\")')\\\n",
    "    .reset_index(drop=True)\\\n",
    "    .dropna()"
   ]
  },
  {
   "cell_type": "code",
   "execution_count": 118,
   "metadata": {
    "scrolled": true
   },
   "outputs": [
    {
     "data": {
      "text/html": [
       "<div>\n",
       "<style scoped>\n",
       "    .dataframe tbody tr th:only-of-type {\n",
       "        vertical-align: middle;\n",
       "    }\n",
       "\n",
       "    .dataframe tbody tr th {\n",
       "        vertical-align: top;\n",
       "    }\n",
       "\n",
       "    .dataframe thead th {\n",
       "        text-align: right;\n",
       "    }\n",
       "</style>\n",
       "<table border=\"1\" class=\"dataframe\">\n",
       "  <thead>\n",
       "    <tr style=\"text-align: right;\">\n",
       "      <th></th>\n",
       "      <th>order_id</th>\n",
       "      <th>customer_id</th>\n",
       "      <th>order_status</th>\n",
       "      <th>order_purchase_timestamp</th>\n",
       "      <th>order_approved_at</th>\n",
       "      <th>order_delivered_carrier_date</th>\n",
       "      <th>order_delivered_customer_date</th>\n",
       "      <th>order_estimated_delivery_date</th>\n",
       "      <th>order_purchase_month</th>\n",
       "    </tr>\n",
       "  </thead>\n",
       "  <tbody>\n",
       "    <tr>\n",
       "      <th>0</th>\n",
       "      <td>e481f51cbdc54678b7cc49136f2d6af7</td>\n",
       "      <td>9ef432eb6251297304e76186b10a928d</td>\n",
       "      <td>delivered</td>\n",
       "      <td>2017-10-02 10:56:33</td>\n",
       "      <td>2017-10-02 11:07:15</td>\n",
       "      <td>2017-10-04 19:55:00</td>\n",
       "      <td>2017-10-10 21:25:13</td>\n",
       "      <td>2017-10-18</td>\n",
       "      <td>2017-10-01</td>\n",
       "    </tr>\n",
       "    <tr>\n",
       "      <th>1</th>\n",
       "      <td>949d5b44dbf5de918fe9c16f97b45f8a</td>\n",
       "      <td>f88197465ea7920adcdbec7375364d82</td>\n",
       "      <td>delivered</td>\n",
       "      <td>2017-11-18 19:28:06</td>\n",
       "      <td>2017-11-18 19:45:59</td>\n",
       "      <td>2017-11-22 13:39:59</td>\n",
       "      <td>2017-12-02 00:28:42</td>\n",
       "      <td>2017-12-15</td>\n",
       "      <td>2017-11-01</td>\n",
       "    </tr>\n",
       "    <tr>\n",
       "      <th>2</th>\n",
       "      <td>ad21c59c0840e6cb83a9ceb5573f8159</td>\n",
       "      <td>8ab97904e6daea8866dbdbc4fb7aad2c</td>\n",
       "      <td>delivered</td>\n",
       "      <td>2018-02-13 21:18:39</td>\n",
       "      <td>2018-02-13 22:20:29</td>\n",
       "      <td>2018-02-14 19:46:34</td>\n",
       "      <td>2018-02-16 18:17:02</td>\n",
       "      <td>2018-02-26</td>\n",
       "      <td>2018-02-01</td>\n",
       "    </tr>\n",
       "    <tr>\n",
       "      <th>3</th>\n",
       "      <td>a4591c265e18cb1dcee52889e2d8acc3</td>\n",
       "      <td>503740e9ca751ccdda7ba28e9ab8f608</td>\n",
       "      <td>delivered</td>\n",
       "      <td>2017-07-09 21:57:05</td>\n",
       "      <td>2017-07-09 22:10:13</td>\n",
       "      <td>2017-07-11 14:58:04</td>\n",
       "      <td>2017-07-26 10:57:55</td>\n",
       "      <td>2017-08-01</td>\n",
       "      <td>2017-07-01</td>\n",
       "    </tr>\n",
       "    <tr>\n",
       "      <th>4</th>\n",
       "      <td>6514b8ad8028c9f2cc2374ded245783f</td>\n",
       "      <td>9bdf08b4b3b52b5526ff42d37d47f222</td>\n",
       "      <td>delivered</td>\n",
       "      <td>2017-05-16 13:10:30</td>\n",
       "      <td>2017-05-16 13:22:11</td>\n",
       "      <td>2017-05-22 10:07:46</td>\n",
       "      <td>2017-05-26 12:55:51</td>\n",
       "      <td>2017-06-07</td>\n",
       "      <td>2017-05-01</td>\n",
       "    </tr>\n",
       "  </tbody>\n",
       "</table>\n",
       "</div>"
      ],
      "text/plain": [
       "                           order_id                       customer_id  \\\n",
       "0  e481f51cbdc54678b7cc49136f2d6af7  9ef432eb6251297304e76186b10a928d   \n",
       "1  949d5b44dbf5de918fe9c16f97b45f8a  f88197465ea7920adcdbec7375364d82   \n",
       "2  ad21c59c0840e6cb83a9ceb5573f8159  8ab97904e6daea8866dbdbc4fb7aad2c   \n",
       "3  a4591c265e18cb1dcee52889e2d8acc3  503740e9ca751ccdda7ba28e9ab8f608   \n",
       "4  6514b8ad8028c9f2cc2374ded245783f  9bdf08b4b3b52b5526ff42d37d47f222   \n",
       "\n",
       "  order_status order_purchase_timestamp   order_approved_at  \\\n",
       "0    delivered      2017-10-02 10:56:33 2017-10-02 11:07:15   \n",
       "1    delivered      2017-11-18 19:28:06 2017-11-18 19:45:59   \n",
       "2    delivered      2018-02-13 21:18:39 2018-02-13 22:20:29   \n",
       "3    delivered      2017-07-09 21:57:05 2017-07-09 22:10:13   \n",
       "4    delivered      2017-05-16 13:10:30 2017-05-16 13:22:11   \n",
       "\n",
       "  order_delivered_carrier_date order_delivered_customer_date  \\\n",
       "0          2017-10-04 19:55:00           2017-10-10 21:25:13   \n",
       "1          2017-11-22 13:39:59           2017-12-02 00:28:42   \n",
       "2          2018-02-14 19:46:34           2018-02-16 18:17:02   \n",
       "3          2017-07-11 14:58:04           2017-07-26 10:57:55   \n",
       "4          2017-05-22 10:07:46           2017-05-26 12:55:51   \n",
       "\n",
       "  order_estimated_delivery_date order_purchase_month  \n",
       "0                    2017-10-18           2017-10-01  \n",
       "1                    2017-12-15           2017-11-01  \n",
       "2                    2018-02-26           2018-02-01  \n",
       "3                    2017-08-01           2017-07-01  \n",
       "4                    2017-06-07           2017-05-01  "
      ]
     },
     "execution_count": 118,
     "metadata": {},
     "output_type": "execute_result"
    }
   ],
   "source": [
    "cohort_data.head()"
   ]
  },
  {
   "cell_type": "code",
   "execution_count": 119,
   "metadata": {},
   "outputs": [],
   "source": [
    "cohort_data = cohort_data.merge(customers, how=\"inner\", on='customer_id')"
   ]
  },
  {
   "cell_type": "code",
   "execution_count": 120,
   "metadata": {
    "scrolled": true
   },
   "outputs": [
    {
     "data": {
      "text/plain": [
       "62026"
      ]
     },
     "execution_count": 120,
     "metadata": {},
     "output_type": "execute_result"
    }
   ],
   "source": [
    "unique_customers = cohort_data.customer_unique_id.nunique()\n",
    "unique_customers"
   ]
  },
  {
   "cell_type": "markdown",
   "metadata": {},
   "source": [
    "Оставим только нужные колонки. Будем рассматривать когорты покупателей по месяцам, городам и штатам"
   ]
  },
  {
   "cell_type": "code",
   "execution_count": 121,
   "metadata": {},
   "outputs": [],
   "source": [
    "cohort_data = cohort_data[['customer_unique_id', 'order_id', 'order_approved_at', 'customer_city', 'customer_state']]\\\n",
    "    .sort_values('order_approved_at')"
   ]
  },
  {
   "cell_type": "code",
   "execution_count": 122,
   "metadata": {},
   "outputs": [
    {
     "data": {
      "text/html": [
       "<div>\n",
       "<style scoped>\n",
       "    .dataframe tbody tr th:only-of-type {\n",
       "        vertical-align: middle;\n",
       "    }\n",
       "\n",
       "    .dataframe tbody tr th {\n",
       "        vertical-align: top;\n",
       "    }\n",
       "\n",
       "    .dataframe thead th {\n",
       "        text-align: right;\n",
       "    }\n",
       "</style>\n",
       "<table border=\"1\" class=\"dataframe\">\n",
       "  <thead>\n",
       "    <tr style=\"text-align: right;\">\n",
       "      <th></th>\n",
       "      <th>customer_unique_id</th>\n",
       "      <th>order_id</th>\n",
       "      <th>order_approved_at</th>\n",
       "      <th>customer_city</th>\n",
       "      <th>customer_state</th>\n",
       "    </tr>\n",
       "  </thead>\n",
       "  <tbody>\n",
       "    <tr>\n",
       "      <th>50725</th>\n",
       "      <td>f7b981e8a280e455ac3cbe0d5d171bd1</td>\n",
       "      <td>ec7a019261fce44180373d45b442d78f</td>\n",
       "      <td>2017-01-05 12:10:17</td>\n",
       "      <td>curitiba</td>\n",
       "      <td>PR</td>\n",
       "    </tr>\n",
       "    <tr>\n",
       "      <th>39209</th>\n",
       "      <td>4b3207464f5f7a48a7f63fa0b1251d86</td>\n",
       "      <td>e1fe072ef14b519af1f0a8ed997c1301</td>\n",
       "      <td>2017-01-05 16:15:16</td>\n",
       "      <td>ribeirao preto</td>\n",
       "      <td>SP</td>\n",
       "    </tr>\n",
       "    <tr>\n",
       "      <th>3837</th>\n",
       "      <td>b88b78a413e70182e18b032361b24f91</td>\n",
       "      <td>f2dd5f15184c73c0d45c02941c7c23d1</td>\n",
       "      <td>2017-01-05 23:05:27</td>\n",
       "      <td>irece</td>\n",
       "      <td>BA</td>\n",
       "    </tr>\n",
       "    <tr>\n",
       "      <th>15545</th>\n",
       "      <td>48368b31672665cca1b8a03047a1702a</td>\n",
       "      <td>157ec3dc3f38cdbd2706bd216edfe8fb</td>\n",
       "      <td>2017-01-06 13:55:11</td>\n",
       "      <td>santa luzia</td>\n",
       "      <td>MG</td>\n",
       "    </tr>\n",
       "    <tr>\n",
       "      <th>60918</th>\n",
       "      <td>c9517b423493063fa4e805acf2cc4564</td>\n",
       "      <td>e6db6e9529fecbe14cd05dd349816656</td>\n",
       "      <td>2017-01-06 21:35:20</td>\n",
       "      <td>lagoa santa</td>\n",
       "      <td>MG</td>\n",
       "    </tr>\n",
       "  </tbody>\n",
       "</table>\n",
       "</div>"
      ],
      "text/plain": [
       "                     customer_unique_id                          order_id  \\\n",
       "50725  f7b981e8a280e455ac3cbe0d5d171bd1  ec7a019261fce44180373d45b442d78f   \n",
       "39209  4b3207464f5f7a48a7f63fa0b1251d86  e1fe072ef14b519af1f0a8ed997c1301   \n",
       "3837   b88b78a413e70182e18b032361b24f91  f2dd5f15184c73c0d45c02941c7c23d1   \n",
       "15545  48368b31672665cca1b8a03047a1702a  157ec3dc3f38cdbd2706bd216edfe8fb   \n",
       "60918  c9517b423493063fa4e805acf2cc4564  e6db6e9529fecbe14cd05dd349816656   \n",
       "\n",
       "        order_approved_at   customer_city customer_state  \n",
       "50725 2017-01-05 12:10:17        curitiba             PR  \n",
       "39209 2017-01-05 16:15:16  ribeirao preto             SP  \n",
       "3837  2017-01-05 23:05:27           irece             BA  \n",
       "15545 2017-01-06 13:55:11     santa luzia             MG  \n",
       "60918 2017-01-06 21:35:20     lagoa santa             MG  "
      ]
     },
     "execution_count": 122,
     "metadata": {},
     "output_type": "execute_result"
    }
   ],
   "source": [
    "cohort_data.head()"
   ]
  },
  {
   "cell_type": "code",
   "execution_count": 361,
   "metadata": {},
   "outputs": [],
   "source": [
    "# cohort_data['approved_2nd_month'] = cohort_data.order_approved_at + pd.DateOffset(months=2)\n",
    "# cohort_data['approved_3d_month'] = cohort_data.order_approved_at + pd.DateOffset(months=3)"
   ]
  },
  {
   "cell_type": "markdown",
   "metadata": {},
   "source": [
    "Добавим к каждой строке столбца дату первой покупки клиента"
   ]
  },
  {
   "cell_type": "code",
   "execution_count": 124,
   "metadata": {},
   "outputs": [],
   "source": [
    "start_date = cohort_data.groupby('customer_unique_id')['order_approved_at'].min().rename('start_date')\n",
    "cohort_data = pd.merge(cohort_data, start_date, left_on='customer_unique_id', right_index=True)"
   ]
  },
  {
   "cell_type": "code",
   "execution_count": 125,
   "metadata": {},
   "outputs": [],
   "source": [
    "cohort_data['start_month'] = cohort_data['start_date'].to_numpy().astype('datetime64[M]')"
   ]
  },
  {
   "cell_type": "markdown",
   "metadata": {},
   "source": [
    "Высчитаем через сколько месяцев клиент снова совершил покупку"
   ]
  },
  {
   "cell_type": "code",
   "execution_count": 128,
   "metadata": {},
   "outputs": [],
   "source": [
    "cohort_data['returned_months'] = (cohort_data.order_approved_at - cohort_data.start_date)/np.timedelta64(1, 'M')"
   ]
  },
  {
   "cell_type": "code",
   "execution_count": 132,
   "metadata": {
    "scrolled": true
   },
   "outputs": [
    {
     "data": {
      "text/html": [
       "<div>\n",
       "<style scoped>\n",
       "    .dataframe tbody tr th:only-of-type {\n",
       "        vertical-align: middle;\n",
       "    }\n",
       "\n",
       "    .dataframe tbody tr th {\n",
       "        vertical-align: top;\n",
       "    }\n",
       "\n",
       "    .dataframe thead th {\n",
       "        text-align: right;\n",
       "    }\n",
       "</style>\n",
       "<table border=\"1\" class=\"dataframe\">\n",
       "  <thead>\n",
       "    <tr style=\"text-align: right;\">\n",
       "      <th></th>\n",
       "      <th>customer_unique_id</th>\n",
       "      <th>order_id</th>\n",
       "      <th>order_approved_at</th>\n",
       "      <th>customer_city</th>\n",
       "      <th>customer_state</th>\n",
       "      <th>start_date</th>\n",
       "      <th>start_month</th>\n",
       "      <th>returned_months</th>\n",
       "    </tr>\n",
       "  </thead>\n",
       "  <tbody>\n",
       "    <tr>\n",
       "      <th>36777</th>\n",
       "      <td>b8cfc2f993591e07f2b5ee5fdc912840</td>\n",
       "      <td>ee4777f7cd28163d7b1b9f1763996e08</td>\n",
       "      <td>2017-11-25 03:52:15</td>\n",
       "      <td>caxambu</td>\n",
       "      <td>MG</td>\n",
       "      <td>2017-11-25 03:52:15</td>\n",
       "      <td>2017-11-01</td>\n",
       "      <td>0.0</td>\n",
       "    </tr>\n",
       "    <tr>\n",
       "      <th>62982</th>\n",
       "      <td>73db255b34a3bb4f6b591ede69c80dc7</td>\n",
       "      <td>11de19a6b9ccdeeb0b0ef48d91cfd78b</td>\n",
       "      <td>2017-10-29 17:24:56</td>\n",
       "      <td>curitiba</td>\n",
       "      <td>PR</td>\n",
       "      <td>2017-10-29 17:24:56</td>\n",
       "      <td>2017-10-01</td>\n",
       "      <td>0.0</td>\n",
       "    </tr>\n",
       "    <tr>\n",
       "      <th>62521</th>\n",
       "      <td>e601188dfe8db2615145f9466aaa8a39</td>\n",
       "      <td>268836b1aa282605cf690e10defb2b35</td>\n",
       "      <td>2018-03-01 02:48:59</td>\n",
       "      <td>braganca paulista</td>\n",
       "      <td>SP</td>\n",
       "      <td>2018-03-01 02:48:59</td>\n",
       "      <td>2018-03-01</td>\n",
       "      <td>0.0</td>\n",
       "    </tr>\n",
       "    <tr>\n",
       "      <th>51744</th>\n",
       "      <td>c8060d3780dc605de76f35961e0bf2da</td>\n",
       "      <td>ef31025693a0212c0b45d12f12f12a5e</td>\n",
       "      <td>2018-02-20 11:47:44</td>\n",
       "      <td>sao paulo</td>\n",
       "      <td>SP</td>\n",
       "      <td>2018-02-20 11:47:44</td>\n",
       "      <td>2018-02-01</td>\n",
       "      <td>0.0</td>\n",
       "    </tr>\n",
       "    <tr>\n",
       "      <th>37248</th>\n",
       "      <td>21ff6b67205558381cfbec10ee2fa4e0</td>\n",
       "      <td>cf774fe62d37125e7b9638ef68f872b6</td>\n",
       "      <td>2017-12-27 07:27:54</td>\n",
       "      <td>salvador</td>\n",
       "      <td>BA</td>\n",
       "      <td>2017-12-27 07:27:54</td>\n",
       "      <td>2017-12-01</td>\n",
       "      <td>0.0</td>\n",
       "    </tr>\n",
       "  </tbody>\n",
       "</table>\n",
       "</div>"
      ],
      "text/plain": [
       "                     customer_unique_id                          order_id  \\\n",
       "36777  b8cfc2f993591e07f2b5ee5fdc912840  ee4777f7cd28163d7b1b9f1763996e08   \n",
       "62982  73db255b34a3bb4f6b591ede69c80dc7  11de19a6b9ccdeeb0b0ef48d91cfd78b   \n",
       "62521  e601188dfe8db2615145f9466aaa8a39  268836b1aa282605cf690e10defb2b35   \n",
       "51744  c8060d3780dc605de76f35961e0bf2da  ef31025693a0212c0b45d12f12f12a5e   \n",
       "37248  21ff6b67205558381cfbec10ee2fa4e0  cf774fe62d37125e7b9638ef68f872b6   \n",
       "\n",
       "        order_approved_at      customer_city customer_state  \\\n",
       "36777 2017-11-25 03:52:15            caxambu             MG   \n",
       "62982 2017-10-29 17:24:56           curitiba             PR   \n",
       "62521 2018-03-01 02:48:59  braganca paulista             SP   \n",
       "51744 2018-02-20 11:47:44          sao paulo             SP   \n",
       "37248 2017-12-27 07:27:54           salvador             BA   \n",
       "\n",
       "               start_date start_month  returned_months  \n",
       "36777 2017-11-25 03:52:15  2017-11-01              0.0  \n",
       "62982 2017-10-29 17:24:56  2017-10-01              0.0  \n",
       "62521 2018-03-01 02:48:59  2018-03-01              0.0  \n",
       "51744 2018-02-20 11:47:44  2018-02-01              0.0  \n",
       "37248 2017-12-27 07:27:54  2017-12-01              0.0  "
      ]
     },
     "execution_count": 132,
     "metadata": {},
     "output_type": "execute_result"
    }
   ],
   "source": [
    "cohort_data.sample(5, random_state=0)"
   ]
  },
  {
   "cell_type": "markdown",
   "metadata": {},
   "source": [
    "Оставим только тех покупателей, что совершили покупку на 3й месяц"
   ]
  },
  {
   "cell_type": "code",
   "execution_count": 134,
   "metadata": {},
   "outputs": [],
   "source": [
    "customers_returned_on_3d_month = cohort_data.query('2 < returned_months < 3')"
   ]
  },
  {
   "cell_type": "code",
   "execution_count": 135,
   "metadata": {
    "scrolled": false
   },
   "outputs": [
    {
     "data": {
      "text/html": [
       "<div>\n",
       "<style scoped>\n",
       "    .dataframe tbody tr th:only-of-type {\n",
       "        vertical-align: middle;\n",
       "    }\n",
       "\n",
       "    .dataframe tbody tr th {\n",
       "        vertical-align: top;\n",
       "    }\n",
       "\n",
       "    .dataframe thead th {\n",
       "        text-align: right;\n",
       "    }\n",
       "</style>\n",
       "<table border=\"1\" class=\"dataframe\">\n",
       "  <thead>\n",
       "    <tr style=\"text-align: right;\">\n",
       "      <th></th>\n",
       "      <th>customer_unique_id</th>\n",
       "      <th>order_id</th>\n",
       "      <th>order_approved_at</th>\n",
       "      <th>customer_city</th>\n",
       "      <th>customer_state</th>\n",
       "      <th>start_date</th>\n",
       "      <th>start_month</th>\n",
       "      <th>returned_months</th>\n",
       "    </tr>\n",
       "  </thead>\n",
       "  <tbody>\n",
       "    <tr>\n",
       "      <th>847</th>\n",
       "      <td>a5c806ebe5b25d0ab1e7f0da0e17d6bc</td>\n",
       "      <td>e1215367814d0d82c496bf4c6b2ba6f7</td>\n",
       "      <td>2017-04-13 20:22:03</td>\n",
       "      <td>sao bernardo do campo</td>\n",
       "      <td>SP</td>\n",
       "      <td>2017-02-01 22:41:28</td>\n",
       "      <td>2017-02-01</td>\n",
       "      <td>2.329516</td>\n",
       "    </tr>\n",
       "    <tr>\n",
       "      <th>20685</th>\n",
       "      <td>e5bdbd18812e42788e7cbad7058fc0ab</td>\n",
       "      <td>8eaff5985d99ef7dd4578cbdc31b430f</td>\n",
       "      <td>2017-04-25 13:42:18</td>\n",
       "      <td>niteroi</td>\n",
       "      <td>RJ</td>\n",
       "      <td>2017-02-04 11:55:21</td>\n",
       "      <td>2017-02-01</td>\n",
       "      <td>2.630831</td>\n",
       "    </tr>\n",
       "    <tr>\n",
       "      <th>51179</th>\n",
       "      <td>7ee9e6c80bf1b7ec4a52639eab6c128c</td>\n",
       "      <td>c92c52fc8165c38e21adf26ffcf62028</td>\n",
       "      <td>2017-05-03 11:34:39</td>\n",
       "      <td>campinas</td>\n",
       "      <td>SP</td>\n",
       "      <td>2017-02-26 20:01:53</td>\n",
       "      <td>2017-02-01</td>\n",
       "      <td>2.156849</td>\n",
       "    </tr>\n",
       "    <tr>\n",
       "      <th>41069</th>\n",
       "      <td>bf6656ef50e6fd00e7517b01d615b4f3</td>\n",
       "      <td>5cddc0e7aa59980c2f6018bbbde4b776</td>\n",
       "      <td>2017-05-26 07:15:11</td>\n",
       "      <td>vila velha</td>\n",
       "      <td>ES</td>\n",
       "      <td>2017-03-01 10:05:20</td>\n",
       "      <td>2017-03-01</td>\n",
       "      <td>2.821638</td>\n",
       "    </tr>\n",
       "    <tr>\n",
       "      <th>59477</th>\n",
       "      <td>336421b86cc4259a58106da261e0e000</td>\n",
       "      <td>1e80bd664bc120ddf4d789b7b9455e14</td>\n",
       "      <td>2017-05-11 04:02:44</td>\n",
       "      <td>rio de janeiro</td>\n",
       "      <td>RJ</td>\n",
       "      <td>2017-03-04 02:23:28</td>\n",
       "      <td>2017-03-01</td>\n",
       "      <td>2.236397</td>\n",
       "    </tr>\n",
       "  </tbody>\n",
       "</table>\n",
       "</div>"
      ],
      "text/plain": [
       "                     customer_unique_id                          order_id  \\\n",
       "847    a5c806ebe5b25d0ab1e7f0da0e17d6bc  e1215367814d0d82c496bf4c6b2ba6f7   \n",
       "20685  e5bdbd18812e42788e7cbad7058fc0ab  8eaff5985d99ef7dd4578cbdc31b430f   \n",
       "51179  7ee9e6c80bf1b7ec4a52639eab6c128c  c92c52fc8165c38e21adf26ffcf62028   \n",
       "41069  bf6656ef50e6fd00e7517b01d615b4f3  5cddc0e7aa59980c2f6018bbbde4b776   \n",
       "59477  336421b86cc4259a58106da261e0e000  1e80bd664bc120ddf4d789b7b9455e14   \n",
       "\n",
       "        order_approved_at          customer_city customer_state  \\\n",
       "847   2017-04-13 20:22:03  sao bernardo do campo             SP   \n",
       "20685 2017-04-25 13:42:18                niteroi             RJ   \n",
       "51179 2017-05-03 11:34:39               campinas             SP   \n",
       "41069 2017-05-26 07:15:11             vila velha             ES   \n",
       "59477 2017-05-11 04:02:44         rio de janeiro             RJ   \n",
       "\n",
       "               start_date start_month  returned_months  \n",
       "847   2017-02-01 22:41:28  2017-02-01         2.329516  \n",
       "20685 2017-02-04 11:55:21  2017-02-01         2.630831  \n",
       "51179 2017-02-26 20:01:53  2017-02-01         2.156849  \n",
       "41069 2017-03-01 10:05:20  2017-03-01         2.821638  \n",
       "59477 2017-03-04 02:23:28  2017-03-01         2.236397  "
      ]
     },
     "execution_count": 135,
     "metadata": {},
     "output_type": "execute_result"
    }
   ],
   "source": [
    "customers_returned_on_3d_month.head()"
   ]
  },
  {
   "cell_type": "code",
   "execution_count": 139,
   "metadata": {},
   "outputs": [],
   "source": [
    "def retention_by_cohort(df: pd.DataFrame, cohort: str):\n",
    "    df = df\\\n",
    "        .groupby(cohort, as_index=False)\\\n",
    "        .agg({'customer_unique_id': 'nunique'})\\\n",
    "        .rename(columns={'customer_unique_id': 'cust_count'})\\\n",
    "        .sort_values('cust_count', ascending=False)\n",
    "\n",
    "    df['retention'] = df.cust_count / unique_customers  \n",
    "    \n",
    "    return df"
   ]
  },
  {
   "cell_type": "code",
   "execution_count": 147,
   "metadata": {},
   "outputs": [
    {
     "data": {
      "text/html": [
       "<div>\n",
       "<style scoped>\n",
       "    .dataframe tbody tr th:only-of-type {\n",
       "        vertical-align: middle;\n",
       "    }\n",
       "\n",
       "    .dataframe tbody tr th {\n",
       "        vertical-align: top;\n",
       "    }\n",
       "\n",
       "    .dataframe thead th {\n",
       "        text-align: right;\n",
       "    }\n",
       "</style>\n",
       "<table border=\"1\" class=\"dataframe\">\n",
       "  <thead>\n",
       "    <tr style=\"text-align: right;\">\n",
       "      <th></th>\n",
       "      <th>customer_city</th>\n",
       "      <th>cust_count</th>\n",
       "      <th>retention</th>\n",
       "    </tr>\n",
       "  </thead>\n",
       "  <tbody>\n",
       "    <tr>\n",
       "      <th>66</th>\n",
       "      <td>sao paulo</td>\n",
       "      <td>24</td>\n",
       "      <td>0.000387</td>\n",
       "    </tr>\n",
       "    <tr>\n",
       "      <th>53</th>\n",
       "      <td>rio de janeiro</td>\n",
       "      <td>8</td>\n",
       "      <td>0.000129</td>\n",
       "    </tr>\n",
       "    <tr>\n",
       "      <th>14</th>\n",
       "      <td>campinas</td>\n",
       "      <td>4</td>\n",
       "      <td>0.000064</td>\n",
       "    </tr>\n",
       "    <tr>\n",
       "      <th>60</th>\n",
       "      <td>santo andre</td>\n",
       "      <td>4</td>\n",
       "      <td>0.000064</td>\n",
       "    </tr>\n",
       "    <tr>\n",
       "      <th>78</th>\n",
       "      <td>vitoria</td>\n",
       "      <td>4</td>\n",
       "      <td>0.000064</td>\n",
       "    </tr>\n",
       "  </tbody>\n",
       "</table>\n",
       "</div>"
      ],
      "text/plain": [
       "     customer_city  cust_count  retention\n",
       "66       sao paulo          24   0.000387\n",
       "53  rio de janeiro           8   0.000129\n",
       "14        campinas           4   0.000064\n",
       "60     santo andre           4   0.000064\n",
       "78         vitoria           4   0.000064"
      ]
     },
     "execution_count": 147,
     "metadata": {},
     "output_type": "execute_result"
    }
   ],
   "source": [
    "cohort_by_city = retention_by_cohort(customers_returned_on_3d_month, 'customer_city')\n",
    "cohort_by_city.head()"
   ]
  },
  {
   "cell_type": "code",
   "execution_count": 146,
   "metadata": {},
   "outputs": [
    {
     "data": {
      "text/html": [
       "<div>\n",
       "<style scoped>\n",
       "    .dataframe tbody tr th:only-of-type {\n",
       "        vertical-align: middle;\n",
       "    }\n",
       "\n",
       "    .dataframe tbody tr th {\n",
       "        vertical-align: top;\n",
       "    }\n",
       "\n",
       "    .dataframe thead th {\n",
       "        text-align: right;\n",
       "    }\n",
       "</style>\n",
       "<table border=\"1\" class=\"dataframe\">\n",
       "  <thead>\n",
       "    <tr style=\"text-align: right;\">\n",
       "      <th></th>\n",
       "      <th>customer_state</th>\n",
       "      <th>cust_count</th>\n",
       "      <th>retention</th>\n",
       "    </tr>\n",
       "  </thead>\n",
       "  <tbody>\n",
       "    <tr>\n",
       "      <th>15</th>\n",
       "      <td>SP</td>\n",
       "      <td>68</td>\n",
       "      <td>0.001096</td>\n",
       "    </tr>\n",
       "    <tr>\n",
       "      <th>9</th>\n",
       "      <td>RJ</td>\n",
       "      <td>16</td>\n",
       "      <td>0.000258</td>\n",
       "    </tr>\n",
       "    <tr>\n",
       "      <th>4</th>\n",
       "      <td>MG</td>\n",
       "      <td>15</td>\n",
       "      <td>0.000242</td>\n",
       "    </tr>\n",
       "    <tr>\n",
       "      <th>12</th>\n",
       "      <td>RS</td>\n",
       "      <td>11</td>\n",
       "      <td>0.000177</td>\n",
       "    </tr>\n",
       "    <tr>\n",
       "      <th>2</th>\n",
       "      <td>ES</td>\n",
       "      <td>8</td>\n",
       "      <td>0.000129</td>\n",
       "    </tr>\n",
       "  </tbody>\n",
       "</table>\n",
       "</div>"
      ],
      "text/plain": [
       "   customer_state  cust_count  retention\n",
       "15             SP          68   0.001096\n",
       "9              RJ          16   0.000258\n",
       "4              MG          15   0.000242\n",
       "12             RS          11   0.000177\n",
       "2              ES           8   0.000129"
      ]
     },
     "execution_count": 146,
     "metadata": {},
     "output_type": "execute_result"
    }
   ],
   "source": [
    "cohort_by_city_state = retention_by_cohort(customers_returned_on_3d_month, 'customer_state')\n",
    "cohort_by_city_state.head()"
   ]
  },
  {
   "cell_type": "code",
   "execution_count": 148,
   "metadata": {},
   "outputs": [
    {
     "data": {
      "text/html": [
       "<div>\n",
       "<style scoped>\n",
       "    .dataframe tbody tr th:only-of-type {\n",
       "        vertical-align: middle;\n",
       "    }\n",
       "\n",
       "    .dataframe tbody tr th {\n",
       "        vertical-align: top;\n",
       "    }\n",
       "\n",
       "    .dataframe thead th {\n",
       "        text-align: right;\n",
       "    }\n",
       "</style>\n",
       "<table border=\"1\" class=\"dataframe\">\n",
       "  <thead>\n",
       "    <tr style=\"text-align: right;\">\n",
       "      <th></th>\n",
       "      <th>start_month</th>\n",
       "      <th>cust_count</th>\n",
       "      <th>retention</th>\n",
       "    </tr>\n",
       "  </thead>\n",
       "  <tbody>\n",
       "    <tr>\n",
       "      <th>7</th>\n",
       "      <td>2017-09-01</td>\n",
       "      <td>19</td>\n",
       "      <td>0.000306</td>\n",
       "    </tr>\n",
       "    <tr>\n",
       "      <th>10</th>\n",
       "      <td>2017-12-01</td>\n",
       "      <td>18</td>\n",
       "      <td>0.000290</td>\n",
       "    </tr>\n",
       "    <tr>\n",
       "      <th>9</th>\n",
       "      <td>2017-11-01</td>\n",
       "      <td>17</td>\n",
       "      <td>0.000274</td>\n",
       "    </tr>\n",
       "    <tr>\n",
       "      <th>1</th>\n",
       "      <td>2017-03-01</td>\n",
       "      <td>14</td>\n",
       "      <td>0.000226</td>\n",
       "    </tr>\n",
       "    <tr>\n",
       "      <th>4</th>\n",
       "      <td>2017-06-01</td>\n",
       "      <td>14</td>\n",
       "      <td>0.000226</td>\n",
       "    </tr>\n",
       "  </tbody>\n",
       "</table>\n",
       "</div>"
      ],
      "text/plain": [
       "   start_month  cust_count  retention\n",
       "7   2017-09-01          19   0.000306\n",
       "10  2017-12-01          18   0.000290\n",
       "9   2017-11-01          17   0.000274\n",
       "1   2017-03-01          14   0.000226\n",
       "4   2017-06-01          14   0.000226"
      ]
     },
     "execution_count": 148,
     "metadata": {},
     "output_type": "execute_result"
    }
   ],
   "source": [
    "cohort_by_started_month = retention_by_cohort(customers_returned_on_3d_month, 'start_month')\n",
    "cohort_by_started_month.head()"
   ]
  },
  {
   "cell_type": "markdown",
   "metadata": {},
   "source": [
    "Как видно самый большой retention показывает когорта по штатам"
   ]
  },
  {
   "cell_type": "code",
   "execution_count": null,
   "metadata": {},
   "outputs": [],
   "source": []
  },
  {
   "cell_type": "markdown",
   "metadata": {},
   "source": [
    "## 6. Построить RFM-сегментацию пользователей. \n",
    "R - время от последней покупки пользователя до текущей даты, \n",
    "\n",
    "F - суммарное количество покупок у пользователя за всё время, \n",
    "\n",
    "M - сумма покупок за всё время. Подробно опиши, как ты создавал кластеры.\n",
    "\n",
    "Для каждого RFM-сегмента построй границы метрик recency, frequency и monetary для интерпретации этих кластеров."
   ]
  },
  {
   "cell_type": "code",
   "execution_count": 151,
   "metadata": {
    "scrolled": true
   },
   "outputs": [
    {
     "data": {
      "text/html": [
       "<div>\n",
       "<style scoped>\n",
       "    .dataframe tbody tr th:only-of-type {\n",
       "        vertical-align: middle;\n",
       "    }\n",
       "\n",
       "    .dataframe tbody tr th {\n",
       "        vertical-align: top;\n",
       "    }\n",
       "\n",
       "    .dataframe thead th {\n",
       "        text-align: right;\n",
       "    }\n",
       "</style>\n",
       "<table border=\"1\" class=\"dataframe\">\n",
       "  <thead>\n",
       "    <tr style=\"text-align: right;\">\n",
       "      <th></th>\n",
       "      <th>order_id</th>\n",
       "      <th>customer_id</th>\n",
       "      <th>order_status</th>\n",
       "      <th>order_purchase_timestamp</th>\n",
       "      <th>order_approved_at</th>\n",
       "      <th>order_delivered_carrier_date</th>\n",
       "      <th>order_delivered_customer_date</th>\n",
       "      <th>order_estimated_delivery_date</th>\n",
       "      <th>order_purchase_month</th>\n",
       "    </tr>\n",
       "  </thead>\n",
       "  <tbody>\n",
       "    <tr>\n",
       "      <th>0</th>\n",
       "      <td>e481f51cbdc54678b7cc49136f2d6af7</td>\n",
       "      <td>9ef432eb6251297304e76186b10a928d</td>\n",
       "      <td>delivered</td>\n",
       "      <td>2017-10-02 10:56:33</td>\n",
       "      <td>2017-10-02 11:07:15</td>\n",
       "      <td>2017-10-04 19:55:00</td>\n",
       "      <td>2017-10-10 21:25:13</td>\n",
       "      <td>2017-10-18</td>\n",
       "      <td>2017-10-01</td>\n",
       "    </tr>\n",
       "    <tr>\n",
       "      <th>1</th>\n",
       "      <td>53cdb2fc8bc7dce0b6741e2150273451</td>\n",
       "      <td>b0830fb4747a6c6d20dea0b8c802d7ef</td>\n",
       "      <td>delivered</td>\n",
       "      <td>2018-07-24 20:41:37</td>\n",
       "      <td>2018-07-26 03:24:27</td>\n",
       "      <td>2018-07-26 14:31:00</td>\n",
       "      <td>2018-08-07 15:27:45</td>\n",
       "      <td>2018-08-13</td>\n",
       "      <td>2018-07-01</td>\n",
       "    </tr>\n",
       "    <tr>\n",
       "      <th>2</th>\n",
       "      <td>47770eb9100c2d0c44946d9cf07ec65d</td>\n",
       "      <td>41ce2a54c0b03bf3443c3d931a367089</td>\n",
       "      <td>delivered</td>\n",
       "      <td>2018-08-08 08:38:49</td>\n",
       "      <td>2018-08-08 08:55:23</td>\n",
       "      <td>2018-08-08 13:50:00</td>\n",
       "      <td>2018-08-17 18:06:29</td>\n",
       "      <td>2018-09-04</td>\n",
       "      <td>2018-08-01</td>\n",
       "    </tr>\n",
       "    <tr>\n",
       "      <th>3</th>\n",
       "      <td>949d5b44dbf5de918fe9c16f97b45f8a</td>\n",
       "      <td>f88197465ea7920adcdbec7375364d82</td>\n",
       "      <td>delivered</td>\n",
       "      <td>2017-11-18 19:28:06</td>\n",
       "      <td>2017-11-18 19:45:59</td>\n",
       "      <td>2017-11-22 13:39:59</td>\n",
       "      <td>2017-12-02 00:28:42</td>\n",
       "      <td>2017-12-15</td>\n",
       "      <td>2017-11-01</td>\n",
       "    </tr>\n",
       "    <tr>\n",
       "      <th>4</th>\n",
       "      <td>ad21c59c0840e6cb83a9ceb5573f8159</td>\n",
       "      <td>8ab97904e6daea8866dbdbc4fb7aad2c</td>\n",
       "      <td>delivered</td>\n",
       "      <td>2018-02-13 21:18:39</td>\n",
       "      <td>2018-02-13 22:20:29</td>\n",
       "      <td>2018-02-14 19:46:34</td>\n",
       "      <td>2018-02-16 18:17:02</td>\n",
       "      <td>2018-02-26</td>\n",
       "      <td>2018-02-01</td>\n",
       "    </tr>\n",
       "  </tbody>\n",
       "</table>\n",
       "</div>"
      ],
      "text/plain": [
       "                           order_id                       customer_id  \\\n",
       "0  e481f51cbdc54678b7cc49136f2d6af7  9ef432eb6251297304e76186b10a928d   \n",
       "1  53cdb2fc8bc7dce0b6741e2150273451  b0830fb4747a6c6d20dea0b8c802d7ef   \n",
       "2  47770eb9100c2d0c44946d9cf07ec65d  41ce2a54c0b03bf3443c3d931a367089   \n",
       "3  949d5b44dbf5de918fe9c16f97b45f8a  f88197465ea7920adcdbec7375364d82   \n",
       "4  ad21c59c0840e6cb83a9ceb5573f8159  8ab97904e6daea8866dbdbc4fb7aad2c   \n",
       "\n",
       "  order_status order_purchase_timestamp   order_approved_at  \\\n",
       "0    delivered      2017-10-02 10:56:33 2017-10-02 11:07:15   \n",
       "1    delivered      2018-07-24 20:41:37 2018-07-26 03:24:27   \n",
       "2    delivered      2018-08-08 08:38:49 2018-08-08 08:55:23   \n",
       "3    delivered      2017-11-18 19:28:06 2017-11-18 19:45:59   \n",
       "4    delivered      2018-02-13 21:18:39 2018-02-13 22:20:29   \n",
       "\n",
       "  order_delivered_carrier_date order_delivered_customer_date  \\\n",
       "0          2017-10-04 19:55:00           2017-10-10 21:25:13   \n",
       "1          2018-07-26 14:31:00           2018-08-07 15:27:45   \n",
       "2          2018-08-08 13:50:00           2018-08-17 18:06:29   \n",
       "3          2017-11-22 13:39:59           2017-12-02 00:28:42   \n",
       "4          2018-02-14 19:46:34           2018-02-16 18:17:02   \n",
       "\n",
       "  order_estimated_delivery_date order_purchase_month  \n",
       "0                    2017-10-18           2017-10-01  \n",
       "1                    2018-08-13           2018-07-01  \n",
       "2                    2018-09-04           2018-08-01  \n",
       "3                    2017-12-15           2017-11-01  \n",
       "4                    2018-02-26           2018-02-01  "
      ]
     },
     "execution_count": 151,
     "metadata": {},
     "output_type": "execute_result"
    }
   ],
   "source": [
    "orders.head()"
   ]
  },
  {
   "cell_type": "code",
   "execution_count": 152,
   "metadata": {
    "scrolled": true
   },
   "outputs": [
    {
     "data": {
      "text/html": [
       "<div>\n",
       "<style scoped>\n",
       "    .dataframe tbody tr th:only-of-type {\n",
       "        vertical-align: middle;\n",
       "    }\n",
       "\n",
       "    .dataframe tbody tr th {\n",
       "        vertical-align: top;\n",
       "    }\n",
       "\n",
       "    .dataframe thead th {\n",
       "        text-align: right;\n",
       "    }\n",
       "</style>\n",
       "<table border=\"1\" class=\"dataframe\">\n",
       "  <thead>\n",
       "    <tr style=\"text-align: right;\">\n",
       "      <th></th>\n",
       "      <th>order_id</th>\n",
       "      <th>order_item_id</th>\n",
       "      <th>product_id</th>\n",
       "      <th>seller_id</th>\n",
       "      <th>shipping_limit_date</th>\n",
       "      <th>price</th>\n",
       "      <th>freight_value</th>\n",
       "    </tr>\n",
       "  </thead>\n",
       "  <tbody>\n",
       "    <tr>\n",
       "      <th>0</th>\n",
       "      <td>00010242fe8c5a6d1ba2dd792cb16214</td>\n",
       "      <td>1</td>\n",
       "      <td>4244733e06e7ecb4970a6e2683c13e61</td>\n",
       "      <td>48436dade18ac8b2bce089ec2a041202</td>\n",
       "      <td>2017-09-19 09:45:35</td>\n",
       "      <td>58.90</td>\n",
       "      <td>13.29</td>\n",
       "    </tr>\n",
       "    <tr>\n",
       "      <th>1</th>\n",
       "      <td>00018f77f2f0320c557190d7a144bdd3</td>\n",
       "      <td>1</td>\n",
       "      <td>e5f2d52b802189ee658865ca93d83a8f</td>\n",
       "      <td>dd7ddc04e1b6c2c614352b383efe2d36</td>\n",
       "      <td>2017-05-03 11:05:13</td>\n",
       "      <td>239.90</td>\n",
       "      <td>19.93</td>\n",
       "    </tr>\n",
       "    <tr>\n",
       "      <th>2</th>\n",
       "      <td>000229ec398224ef6ca0657da4fc703e</td>\n",
       "      <td>1</td>\n",
       "      <td>c777355d18b72b67abbeef9df44fd0fd</td>\n",
       "      <td>5b51032eddd242adc84c38acab88f23d</td>\n",
       "      <td>2018-01-18 14:48:30</td>\n",
       "      <td>199.00</td>\n",
       "      <td>17.87</td>\n",
       "    </tr>\n",
       "    <tr>\n",
       "      <th>3</th>\n",
       "      <td>00024acbcdf0a6daa1e931b038114c75</td>\n",
       "      <td>1</td>\n",
       "      <td>7634da152a4610f1595efa32f14722fc</td>\n",
       "      <td>9d7a1d34a5052409006425275ba1c2b4</td>\n",
       "      <td>2018-08-15 10:10:18</td>\n",
       "      <td>12.99</td>\n",
       "      <td>12.79</td>\n",
       "    </tr>\n",
       "    <tr>\n",
       "      <th>4</th>\n",
       "      <td>00042b26cf59d7ce69dfabb4e55b4fd9</td>\n",
       "      <td>1</td>\n",
       "      <td>ac6c3623068f30de03045865e4e10089</td>\n",
       "      <td>df560393f3a51e74553ab94004ba5c87</td>\n",
       "      <td>2017-02-13 13:57:51</td>\n",
       "      <td>199.90</td>\n",
       "      <td>18.14</td>\n",
       "    </tr>\n",
       "  </tbody>\n",
       "</table>\n",
       "</div>"
      ],
      "text/plain": [
       "                           order_id  order_item_id  \\\n",
       "0  00010242fe8c5a6d1ba2dd792cb16214              1   \n",
       "1  00018f77f2f0320c557190d7a144bdd3              1   \n",
       "2  000229ec398224ef6ca0657da4fc703e              1   \n",
       "3  00024acbcdf0a6daa1e931b038114c75              1   \n",
       "4  00042b26cf59d7ce69dfabb4e55b4fd9              1   \n",
       "\n",
       "                         product_id                         seller_id  \\\n",
       "0  4244733e06e7ecb4970a6e2683c13e61  48436dade18ac8b2bce089ec2a041202   \n",
       "1  e5f2d52b802189ee658865ca93d83a8f  dd7ddc04e1b6c2c614352b383efe2d36   \n",
       "2  c777355d18b72b67abbeef9df44fd0fd  5b51032eddd242adc84c38acab88f23d   \n",
       "3  7634da152a4610f1595efa32f14722fc  9d7a1d34a5052409006425275ba1c2b4   \n",
       "4  ac6c3623068f30de03045865e4e10089  df560393f3a51e74553ab94004ba5c87   \n",
       "\n",
       "   shipping_limit_date   price  freight_value  \n",
       "0  2017-09-19 09:45:35   58.90          13.29  \n",
       "1  2017-05-03 11:05:13  239.90          19.93  \n",
       "2  2018-01-18 14:48:30  199.00          17.87  \n",
       "3  2018-08-15 10:10:18   12.99          12.79  \n",
       "4  2017-02-13 13:57:51  199.90          18.14  "
      ]
     },
     "execution_count": 152,
     "metadata": {},
     "output_type": "execute_result"
    }
   ],
   "source": [
    "order_items.head()"
   ]
  },
  {
   "cell_type": "markdown",
   "metadata": {},
   "source": [
    "Создадим фрэйм для RFM-сегментации"
   ]
  },
  {
   "cell_type": "code",
   "execution_count": 153,
   "metadata": {},
   "outputs": [],
   "source": [
    "rfm_segmentation_df = orders.merge(customers, on='customer_id').merge(order_items, on='order_id')"
   ]
  },
  {
   "cell_type": "code",
   "execution_count": 154,
   "metadata": {},
   "outputs": [],
   "source": [
    "rfm_segmentation_df = rfm_segmentation_df\\\n",
    "    .query('order_status in (\"delivered\", \"approved\", \"processing\", \"shipped\")')\\\n",
    "    .reset_index(drop=True)\\\n",
    "    .dropna()"
   ]
  },
  {
   "cell_type": "code",
   "execution_count": 155,
   "metadata": {},
   "outputs": [],
   "source": [
    "rfm_segmentation_df = rfm_segmentation_df[['order_id', 'order_approved_at', 'customer_unique_id', 'price']]"
   ]
  },
  {
   "cell_type": "code",
   "execution_count": 156,
   "metadata": {},
   "outputs": [],
   "source": [
    "rfm_segmentation_df = rfm_segmentation_df\\\n",
    "    .groupby(['customer_unique_id', 'order_id', 'order_approved_at'], as_index=False)\\\n",
    "    .agg({'price':'sum'})"
   ]
  },
  {
   "cell_type": "code",
   "execution_count": 157,
   "metadata": {
    "scrolled": true
   },
   "outputs": [
    {
     "data": {
      "text/html": [
       "<div>\n",
       "<style scoped>\n",
       "    .dataframe tbody tr th:only-of-type {\n",
       "        vertical-align: middle;\n",
       "    }\n",
       "\n",
       "    .dataframe tbody tr th {\n",
       "        vertical-align: top;\n",
       "    }\n",
       "\n",
       "    .dataframe thead th {\n",
       "        text-align: right;\n",
       "    }\n",
       "</style>\n",
       "<table border=\"1\" class=\"dataframe\">\n",
       "  <thead>\n",
       "    <tr style=\"text-align: right;\">\n",
       "      <th></th>\n",
       "      <th>customer_unique_id</th>\n",
       "      <th>order_id</th>\n",
       "      <th>order_approved_at</th>\n",
       "      <th>price</th>\n",
       "    </tr>\n",
       "  </thead>\n",
       "  <tbody>\n",
       "    <tr>\n",
       "      <th>0</th>\n",
       "      <td>0000366f3b9a7992bf8c76cfdf3221e2</td>\n",
       "      <td>e22acc9c116caa3f2b7121bbb380d08e</td>\n",
       "      <td>2018-05-10 11:11:18</td>\n",
       "      <td>129.90</td>\n",
       "    </tr>\n",
       "    <tr>\n",
       "      <th>1</th>\n",
       "      <td>0000b849f77a49e4a4ce2b2a4ca5be3f</td>\n",
       "      <td>3594e05a005ac4d06a72673270ef9ec9</td>\n",
       "      <td>2018-05-07 18:25:44</td>\n",
       "      <td>18.90</td>\n",
       "    </tr>\n",
       "    <tr>\n",
       "      <th>2</th>\n",
       "      <td>0000f46a3911fa3c0805444483337064</td>\n",
       "      <td>b33ec3b699337181488304f362a6b734</td>\n",
       "      <td>2017-03-10 21:05:03</td>\n",
       "      <td>69.00</td>\n",
       "    </tr>\n",
       "    <tr>\n",
       "      <th>3</th>\n",
       "      <td>0000f6ccb0745a6a4b88665a16c9f078</td>\n",
       "      <td>41272756ecddd9a9ed0180413cc22fb6</td>\n",
       "      <td>2017-10-12 20:49:17</td>\n",
       "      <td>25.99</td>\n",
       "    </tr>\n",
       "    <tr>\n",
       "      <th>4</th>\n",
       "      <td>0004aac84e0df4da2b147fca70cf8255</td>\n",
       "      <td>d957021f1127559cd947b62533f484f7</td>\n",
       "      <td>2017-11-14 20:06:52</td>\n",
       "      <td>180.00</td>\n",
       "    </tr>\n",
       "  </tbody>\n",
       "</table>\n",
       "</div>"
      ],
      "text/plain": [
       "                 customer_unique_id                          order_id  \\\n",
       "0  0000366f3b9a7992bf8c76cfdf3221e2  e22acc9c116caa3f2b7121bbb380d08e   \n",
       "1  0000b849f77a49e4a4ce2b2a4ca5be3f  3594e05a005ac4d06a72673270ef9ec9   \n",
       "2  0000f46a3911fa3c0805444483337064  b33ec3b699337181488304f362a6b734   \n",
       "3  0000f6ccb0745a6a4b88665a16c9f078  41272756ecddd9a9ed0180413cc22fb6   \n",
       "4  0004aac84e0df4da2b147fca70cf8255  d957021f1127559cd947b62533f484f7   \n",
       "\n",
       "    order_approved_at   price  \n",
       "0 2018-05-10 11:11:18  129.90  \n",
       "1 2018-05-07 18:25:44   18.90  \n",
       "2 2017-03-10 21:05:03   69.00  \n",
       "3 2017-10-12 20:49:17   25.99  \n",
       "4 2017-11-14 20:06:52  180.00  "
      ]
     },
     "execution_count": 157,
     "metadata": {},
     "output_type": "execute_result"
    }
   ],
   "source": [
    "rfm_segmentation_df.head()"
   ]
  },
  {
   "cell_type": "markdown",
   "metadata": {},
   "source": [
    "Будем считать, что сейчас следующий день после последнего для наблюдений"
   ]
  },
  {
   "cell_type": "code",
   "execution_count": 158,
   "metadata": {},
   "outputs": [
    {
     "data": {
      "text/plain": [
       "Timestamp('2018-08-30 15:10:26')"
      ]
     },
     "execution_count": 158,
     "metadata": {},
     "output_type": "execute_result"
    }
   ],
   "source": [
    "now = rfm_segmentation_df.order_approved_at.max() + pd.Timedelta(\"1 days\")\n",
    "now"
   ]
  },
  {
   "cell_type": "code",
   "execution_count": 159,
   "metadata": {},
   "outputs": [],
   "source": [
    "rfm_segmentation_df['recency'] = rfm_segmentation_df['order_approved_at']\\\n",
    "    .apply(lambda x: (now - x).days)"
   ]
  },
  {
   "cell_type": "code",
   "execution_count": 160,
   "metadata": {},
   "outputs": [
    {
     "data": {
      "text/html": [
       "<div>\n",
       "<style scoped>\n",
       "    .dataframe tbody tr th:only-of-type {\n",
       "        vertical-align: middle;\n",
       "    }\n",
       "\n",
       "    .dataframe tbody tr th {\n",
       "        vertical-align: top;\n",
       "    }\n",
       "\n",
       "    .dataframe thead th {\n",
       "        text-align: right;\n",
       "    }\n",
       "</style>\n",
       "<table border=\"1\" class=\"dataframe\">\n",
       "  <thead>\n",
       "    <tr style=\"text-align: right;\">\n",
       "      <th></th>\n",
       "      <th>customer_unique_id</th>\n",
       "      <th>order_id</th>\n",
       "      <th>order_approved_at</th>\n",
       "      <th>price</th>\n",
       "      <th>recency</th>\n",
       "    </tr>\n",
       "  </thead>\n",
       "  <tbody>\n",
       "    <tr>\n",
       "      <th>0</th>\n",
       "      <td>0000366f3b9a7992bf8c76cfdf3221e2</td>\n",
       "      <td>e22acc9c116caa3f2b7121bbb380d08e</td>\n",
       "      <td>2018-05-10 11:11:18</td>\n",
       "      <td>129.90</td>\n",
       "      <td>112</td>\n",
       "    </tr>\n",
       "    <tr>\n",
       "      <th>1</th>\n",
       "      <td>0000b849f77a49e4a4ce2b2a4ca5be3f</td>\n",
       "      <td>3594e05a005ac4d06a72673270ef9ec9</td>\n",
       "      <td>2018-05-07 18:25:44</td>\n",
       "      <td>18.90</td>\n",
       "      <td>114</td>\n",
       "    </tr>\n",
       "    <tr>\n",
       "      <th>2</th>\n",
       "      <td>0000f46a3911fa3c0805444483337064</td>\n",
       "      <td>b33ec3b699337181488304f362a6b734</td>\n",
       "      <td>2017-03-10 21:05:03</td>\n",
       "      <td>69.00</td>\n",
       "      <td>537</td>\n",
       "    </tr>\n",
       "    <tr>\n",
       "      <th>3</th>\n",
       "      <td>0000f6ccb0745a6a4b88665a16c9f078</td>\n",
       "      <td>41272756ecddd9a9ed0180413cc22fb6</td>\n",
       "      <td>2017-10-12 20:49:17</td>\n",
       "      <td>25.99</td>\n",
       "      <td>321</td>\n",
       "    </tr>\n",
       "    <tr>\n",
       "      <th>4</th>\n",
       "      <td>0004aac84e0df4da2b147fca70cf8255</td>\n",
       "      <td>d957021f1127559cd947b62533f484f7</td>\n",
       "      <td>2017-11-14 20:06:52</td>\n",
       "      <td>180.00</td>\n",
       "      <td>288</td>\n",
       "    </tr>\n",
       "  </tbody>\n",
       "</table>\n",
       "</div>"
      ],
      "text/plain": [
       "                 customer_unique_id                          order_id  \\\n",
       "0  0000366f3b9a7992bf8c76cfdf3221e2  e22acc9c116caa3f2b7121bbb380d08e   \n",
       "1  0000b849f77a49e4a4ce2b2a4ca5be3f  3594e05a005ac4d06a72673270ef9ec9   \n",
       "2  0000f46a3911fa3c0805444483337064  b33ec3b699337181488304f362a6b734   \n",
       "3  0000f6ccb0745a6a4b88665a16c9f078  41272756ecddd9a9ed0180413cc22fb6   \n",
       "4  0004aac84e0df4da2b147fca70cf8255  d957021f1127559cd947b62533f484f7   \n",
       "\n",
       "    order_approved_at   price  recency  \n",
       "0 2018-05-10 11:11:18  129.90      112  \n",
       "1 2018-05-07 18:25:44   18.90      114  \n",
       "2 2017-03-10 21:05:03   69.00      537  \n",
       "3 2017-10-12 20:49:17   25.99      321  \n",
       "4 2017-11-14 20:06:52  180.00      288  "
      ]
     },
     "execution_count": 160,
     "metadata": {},
     "output_type": "execute_result"
    }
   ],
   "source": [
    "rfm_segmentation_df.head()"
   ]
  },
  {
   "cell_type": "code",
   "execution_count": 161,
   "metadata": {
    "scrolled": true
   },
   "outputs": [
    {
     "name": "stdout",
     "output_type": "stream",
     "text": [
      "<class 'pandas.core.frame.DataFrame'>\n",
      "Int64Index: 96455 entries, 0 to 96454\n",
      "Data columns (total 5 columns):\n",
      " #   Column              Non-Null Count  Dtype         \n",
      "---  ------              --------------  -----         \n",
      " 0   customer_unique_id  96455 non-null  object        \n",
      " 1   order_id            96455 non-null  object        \n",
      " 2   order_approved_at   96455 non-null  datetime64[ns]\n",
      " 3   price               96455 non-null  float64       \n",
      " 4   recency             96455 non-null  int64         \n",
      "dtypes: datetime64[ns](1), float64(1), int64(1), object(2)\n",
      "memory usage: 4.4+ MB\n"
     ]
    }
   ],
   "source": [
    "rfm_segmentation_df.info()"
   ]
  },
  {
   "cell_type": "markdown",
   "metadata": {},
   "source": [
    "Высчитаем параметры RFM"
   ]
  },
  {
   "cell_type": "code",
   "execution_count": 162,
   "metadata": {},
   "outputs": [],
   "source": [
    "rfm_segmentation_df = rfm_segmentation_df\\\n",
    "    .groupby('customer_unique_id', as_index=False)\\\n",
    "    .agg({'recency':'min', 'order_id': 'count', 'price':'sum'})\\\n",
    "    .rename(columns={'order_id': 'frequency', 'price':'monetary'})"
   ]
  },
  {
   "cell_type": "code",
   "execution_count": 163,
   "metadata": {
    "scrolled": true
   },
   "outputs": [
    {
     "data": {
      "text/html": [
       "<div>\n",
       "<style scoped>\n",
       "    .dataframe tbody tr th:only-of-type {\n",
       "        vertical-align: middle;\n",
       "    }\n",
       "\n",
       "    .dataframe tbody tr th {\n",
       "        vertical-align: top;\n",
       "    }\n",
       "\n",
       "    .dataframe thead th {\n",
       "        text-align: right;\n",
       "    }\n",
       "</style>\n",
       "<table border=\"1\" class=\"dataframe\">\n",
       "  <thead>\n",
       "    <tr style=\"text-align: right;\">\n",
       "      <th></th>\n",
       "      <th>customer_unique_id</th>\n",
       "      <th>recency</th>\n",
       "      <th>frequency</th>\n",
       "      <th>monetary</th>\n",
       "    </tr>\n",
       "  </thead>\n",
       "  <tbody>\n",
       "    <tr>\n",
       "      <th>0</th>\n",
       "      <td>0000366f3b9a7992bf8c76cfdf3221e2</td>\n",
       "      <td>112</td>\n",
       "      <td>1</td>\n",
       "      <td>129.90</td>\n",
       "    </tr>\n",
       "    <tr>\n",
       "      <th>1</th>\n",
       "      <td>0000b849f77a49e4a4ce2b2a4ca5be3f</td>\n",
       "      <td>114</td>\n",
       "      <td>1</td>\n",
       "      <td>18.90</td>\n",
       "    </tr>\n",
       "    <tr>\n",
       "      <th>2</th>\n",
       "      <td>0000f46a3911fa3c0805444483337064</td>\n",
       "      <td>537</td>\n",
       "      <td>1</td>\n",
       "      <td>69.00</td>\n",
       "    </tr>\n",
       "    <tr>\n",
       "      <th>3</th>\n",
       "      <td>0000f6ccb0745a6a4b88665a16c9f078</td>\n",
       "      <td>321</td>\n",
       "      <td>1</td>\n",
       "      <td>25.99</td>\n",
       "    </tr>\n",
       "    <tr>\n",
       "      <th>4</th>\n",
       "      <td>0004aac84e0df4da2b147fca70cf8255</td>\n",
       "      <td>288</td>\n",
       "      <td>1</td>\n",
       "      <td>180.00</td>\n",
       "    </tr>\n",
       "    <tr>\n",
       "      <th>...</th>\n",
       "      <td>...</td>\n",
       "      <td>...</td>\n",
       "      <td>...</td>\n",
       "      <td>...</td>\n",
       "    </tr>\n",
       "    <tr>\n",
       "      <th>93331</th>\n",
       "      <td>fffcf5a5ff07b0908bd4e2dbc735a684</td>\n",
       "      <td>447</td>\n",
       "      <td>1</td>\n",
       "      <td>1570.00</td>\n",
       "    </tr>\n",
       "    <tr>\n",
       "      <th>93332</th>\n",
       "      <td>fffea47cd6d3cc0a88bd621562a9d061</td>\n",
       "      <td>262</td>\n",
       "      <td>1</td>\n",
       "      <td>64.89</td>\n",
       "    </tr>\n",
       "    <tr>\n",
       "      <th>93333</th>\n",
       "      <td>ffff371b4d645b6ecea244b27531430a</td>\n",
       "      <td>568</td>\n",
       "      <td>1</td>\n",
       "      <td>89.90</td>\n",
       "    </tr>\n",
       "    <tr>\n",
       "      <th>93334</th>\n",
       "      <td>ffff5962728ec6157033ef9805bacc48</td>\n",
       "      <td>119</td>\n",
       "      <td>1</td>\n",
       "      <td>115.00</td>\n",
       "    </tr>\n",
       "    <tr>\n",
       "      <th>93335</th>\n",
       "      <td>ffffd2657e2aad2907e67c3e9daecbeb</td>\n",
       "      <td>483</td>\n",
       "      <td>1</td>\n",
       "      <td>56.99</td>\n",
       "    </tr>\n",
       "  </tbody>\n",
       "</table>\n",
       "<p>93336 rows × 4 columns</p>\n",
       "</div>"
      ],
      "text/plain": [
       "                     customer_unique_id  recency  frequency  monetary\n",
       "0      0000366f3b9a7992bf8c76cfdf3221e2      112          1    129.90\n",
       "1      0000b849f77a49e4a4ce2b2a4ca5be3f      114          1     18.90\n",
       "2      0000f46a3911fa3c0805444483337064      537          1     69.00\n",
       "3      0000f6ccb0745a6a4b88665a16c9f078      321          1     25.99\n",
       "4      0004aac84e0df4da2b147fca70cf8255      288          1    180.00\n",
       "...                                 ...      ...        ...       ...\n",
       "93331  fffcf5a5ff07b0908bd4e2dbc735a684      447          1   1570.00\n",
       "93332  fffea47cd6d3cc0a88bd621562a9d061      262          1     64.89\n",
       "93333  ffff371b4d645b6ecea244b27531430a      568          1     89.90\n",
       "93334  ffff5962728ec6157033ef9805bacc48      119          1    115.00\n",
       "93335  ffffd2657e2aad2907e67c3e9daecbeb      483          1     56.99\n",
       "\n",
       "[93336 rows x 4 columns]"
      ]
     },
     "execution_count": 163,
     "metadata": {},
     "output_type": "execute_result"
    }
   ],
   "source": [
    "rfm_segmentation_df"
   ]
  },
  {
   "cell_type": "markdown",
   "metadata": {},
   "source": [
    "Пора определить границы сегментов"
   ]
  },
  {
   "cell_type": "code",
   "execution_count": 164,
   "metadata": {},
   "outputs": [
    {
     "data": {
      "text/html": [
       "<div>\n",
       "<style scoped>\n",
       "    .dataframe tbody tr th:only-of-type {\n",
       "        vertical-align: middle;\n",
       "    }\n",
       "\n",
       "    .dataframe tbody tr th {\n",
       "        vertical-align: top;\n",
       "    }\n",
       "\n",
       "    .dataframe thead th {\n",
       "        text-align: right;\n",
       "    }\n",
       "</style>\n",
       "<table border=\"1\" class=\"dataframe\">\n",
       "  <thead>\n",
       "    <tr style=\"text-align: right;\">\n",
       "      <th></th>\n",
       "      <th>recency</th>\n",
       "      <th>frequency</th>\n",
       "      <th>monetary</th>\n",
       "    </tr>\n",
       "  </thead>\n",
       "  <tbody>\n",
       "    <tr>\n",
       "      <th>count</th>\n",
       "      <td>93336.000000</td>\n",
       "      <td>93336.000000</td>\n",
       "      <td>93336.000000</td>\n",
       "    </tr>\n",
       "    <tr>\n",
       "      <th>mean</th>\n",
       "      <td>237.486093</td>\n",
       "      <td>1.033417</td>\n",
       "      <td>141.621663</td>\n",
       "    </tr>\n",
       "    <tr>\n",
       "      <th>std</th>\n",
       "      <td>152.569986</td>\n",
       "      <td>0.209098</td>\n",
       "      <td>215.714143</td>\n",
       "    </tr>\n",
       "    <tr>\n",
       "      <th>min</th>\n",
       "      <td>1.000000</td>\n",
       "      <td>1.000000</td>\n",
       "      <td>0.850000</td>\n",
       "    </tr>\n",
       "    <tr>\n",
       "      <th>25%</th>\n",
       "      <td>114.000000</td>\n",
       "      <td>1.000000</td>\n",
       "      <td>47.650000</td>\n",
       "    </tr>\n",
       "    <tr>\n",
       "      <th>50%</th>\n",
       "      <td>219.000000</td>\n",
       "      <td>1.000000</td>\n",
       "      <td>89.700000</td>\n",
       "    </tr>\n",
       "    <tr>\n",
       "      <th>75%</th>\n",
       "      <td>346.000000</td>\n",
       "      <td>1.000000</td>\n",
       "      <td>154.692500</td>\n",
       "    </tr>\n",
       "    <tr>\n",
       "      <th>max</th>\n",
       "      <td>714.000000</td>\n",
       "      <td>15.000000</td>\n",
       "      <td>13440.000000</td>\n",
       "    </tr>\n",
       "  </tbody>\n",
       "</table>\n",
       "</div>"
      ],
      "text/plain": [
       "            recency     frequency      monetary\n",
       "count  93336.000000  93336.000000  93336.000000\n",
       "mean     237.486093      1.033417    141.621663\n",
       "std      152.569986      0.209098    215.714143\n",
       "min        1.000000      1.000000      0.850000\n",
       "25%      114.000000      1.000000     47.650000\n",
       "50%      219.000000      1.000000     89.700000\n",
       "75%      346.000000      1.000000    154.692500\n",
       "max      714.000000     15.000000  13440.000000"
      ]
     },
     "execution_count": 164,
     "metadata": {},
     "output_type": "execute_result"
    }
   ],
   "source": [
    "rfm_segmentation_df.describe()"
   ]
  },
  {
   "cell_type": "code",
   "execution_count": 165,
   "metadata": {
    "scrolled": false
   },
   "outputs": [
    {
     "data": {
      "image/png": "[encoded data removed]",
      "text/plain": [
       "<Figure size 432x288 with 1 Axes>"
      ]
     },
     "metadata": {
      "needs_background": "light"
     },
     "output_type": "display_data"
    }
   ],
   "source": [
    "sns.histplot(rfm_segmentation_df.recency);"
   ]
  },
  {
   "cell_type": "code",
   "execution_count": 166,
   "metadata": {},
   "outputs": [
    {
     "data": {
      "image/png": "[encoded data removed]",
      "text/plain": [
       "<Figure size 432x288 with 1 Axes>"
      ]
     },
     "metadata": {
      "needs_background": "light"
     },
     "output_type": "display_data"
    }
   ],
   "source": [
    "sns.histplot(rfm_segmentation_df.monetary, bins=50);"
   ]
  },
  {
   "cell_type": "code",
   "execution_count": 167,
   "metadata": {},
   "outputs": [
    {
     "data": {
      "text/plain": [
       "{'recency': {0.2: 92.0, 0.4: 177.0, 0.6: 268.0, 0.8: 382.0},\n",
       " 'frequency': {0.2: 1.0, 0.4: 1.0, 0.6: 1.0, 0.8: 1.0},\n",
       " 'monetary': {0.2: 39.9, 0.4: 69.9, 0.6: 109.9, 0.8: 179.9}}"
      ]
     },
     "execution_count": 167,
     "metadata": {},
     "output_type": "execute_result"
    }
   ],
   "source": [
    "quintiles = rfm_segmentation_df[['recency', 'frequency', 'monetary']].quantile([.2, .4, .6, .8]).to_dict()\n",
    "quintiles"
   ]
  },
  {
   "cell_type": "code",
   "execution_count": 168,
   "metadata": {
    "scrolled": true
   },
   "outputs": [
    {
     "data": {
      "text/plain": [
       "1     90536\n",
       "2      2572\n",
       "3       181\n",
       "4        28\n",
       "5         9\n",
       "6         5\n",
       "7         3\n",
       "15        1\n",
       "9         1\n",
       "Name: frequency, dtype: int64"
      ]
     },
     "execution_count": 168,
     "metadata": {},
     "output_type": "execute_result"
    }
   ],
   "source": [
    "rfm_segmentation_df.frequency.value_counts()"
   ]
  },
  {
   "cell_type": "markdown",
   "metadata": {},
   "source": [
    "Для <b>Recency</b> (используя квантили):\n",
    "\n",
    "1 - (382; ...)\n",
    "\n",
    "2 - [382; 268)\n",
    "\n",
    "3 - [268; 177)\n",
    "\n",
    "4 - [177; 92)\n",
    "\n",
    "5 - [92; 0]\n",
    "\n",
    "Для <b>Monetary</b> (используя квантили):\n",
    "\n",
    "1 - (179.9; ...)\n",
    "\n",
    "2 - [179.9; 109.9)\n",
    "\n",
    "3 - [109.9; 69.9)\n",
    "\n",
    "4 - [69.9; 39.9)\n",
    "\n",
    "5 - [39.9; 0]\n",
    "\n",
    "Для <b>Frequency</b> оценки квантили не помогут, поэтому:\n",
    "\n",
    "1 - 1\n",
    "\n",
    "2 - 2\n",
    "\n",
    "3 - 3\n",
    "\n",
    "4 - [4; 5]\n",
    "\n",
    "5 - [6; 15]\n",
    "\n",
    "Так как очень много клиентов заказывали один раз. Столкнулись с одним из <b>недостатков</b> RFM: может быть неприменима в отраслях, где заказчики обычно являются разовыми покупателями."
   ]
  },
  {
   "cell_type": "markdown",
   "metadata": {},
   "source": [
    "Определим для клиентов их сегмент"
   ]
  },
  {
   "cell_type": "code",
   "execution_count": 169,
   "metadata": {},
   "outputs": [],
   "source": [
    "def r_score(x):\n",
    "    if x <= quintiles['recency'][.2]:\n",
    "        return 5\n",
    "    elif x <= quintiles['recency'][.4]:\n",
    "        return 4\n",
    "    elif x <= quintiles['recency'][.6]:\n",
    "        return 3\n",
    "    elif x <= quintiles['recency'][.8]:\n",
    "        return 2\n",
    "    else:\n",
    "        return 1\n",
    "\n",
    "def m_score(x):\n",
    "    if x <= quintiles['monetary'][.2]:\n",
    "        return 1\n",
    "    elif x <= quintiles['monetary'][.4]:\n",
    "        return 2\n",
    "    elif x <= quintiles['monetary'][.6]:\n",
    "        return 3\n",
    "    elif x <= quintiles['monetary'][.8]:\n",
    "        return 4\n",
    "    else:\n",
    "        return 5    \n",
    "    \n",
    "def f_score(x):\n",
    "    if x <= 1:\n",
    "        return 1\n",
    "    elif x <= 2:\n",
    "        return 2\n",
    "    elif x <= 3:\n",
    "        return 3\n",
    "    elif x <= 5:\n",
    "        return 4\n",
    "    else:\n",
    "        return 5  "
   ]
  },
  {
   "cell_type": "code",
   "execution_count": 170,
   "metadata": {},
   "outputs": [],
   "source": [
    "rfm_segmentation_df['R'] = rfm_segmentation_df['recency'].apply(lambda x: r_score(x))\n",
    "rfm_segmentation_df['F'] = rfm_segmentation_df['frequency'].apply(lambda x: f_score(x))\n",
    "rfm_segmentation_df['M'] = rfm_segmentation_df['monetary'].apply(lambda x: m_score(x))"
   ]
  },
  {
   "cell_type": "code",
   "execution_count": 171,
   "metadata": {},
   "outputs": [],
   "source": [
    "rfm_segmentation_df['RFM'] = rfm_segmentation_df['R'].map(str) + rfm_segmentation_df['F'].map(str) + rfm_segmentation_df['M'].map(str)"
   ]
  },
  {
   "cell_type": "code",
   "execution_count": 172,
   "metadata": {},
   "outputs": [],
   "source": [
    "# rfm_segmentation_df['RFM'] = rfm_segmentation_df['RFM'].astype('int32')"
   ]
  },
  {
   "cell_type": "code",
   "execution_count": 173,
   "metadata": {
    "scrolled": true
   },
   "outputs": [
    {
     "data": {
      "text/html": [
       "<div>\n",
       "<style scoped>\n",
       "    .dataframe tbody tr th:only-of-type {\n",
       "        vertical-align: middle;\n",
       "    }\n",
       "\n",
       "    .dataframe tbody tr th {\n",
       "        vertical-align: top;\n",
       "    }\n",
       "\n",
       "    .dataframe thead th {\n",
       "        text-align: right;\n",
       "    }\n",
       "</style>\n",
       "<table border=\"1\" class=\"dataframe\">\n",
       "  <thead>\n",
       "    <tr style=\"text-align: right;\">\n",
       "      <th></th>\n",
       "      <th>customer_unique_id</th>\n",
       "      <th>recency</th>\n",
       "      <th>frequency</th>\n",
       "      <th>monetary</th>\n",
       "      <th>R</th>\n",
       "      <th>F</th>\n",
       "      <th>M</th>\n",
       "      <th>RFM</th>\n",
       "    </tr>\n",
       "  </thead>\n",
       "  <tbody>\n",
       "    <tr>\n",
       "      <th>0</th>\n",
       "      <td>0000366f3b9a7992bf8c76cfdf3221e2</td>\n",
       "      <td>112</td>\n",
       "      <td>1</td>\n",
       "      <td>129.90</td>\n",
       "      <td>4</td>\n",
       "      <td>1</td>\n",
       "      <td>4</td>\n",
       "      <td>414</td>\n",
       "    </tr>\n",
       "    <tr>\n",
       "      <th>1</th>\n",
       "      <td>0000b849f77a49e4a4ce2b2a4ca5be3f</td>\n",
       "      <td>114</td>\n",
       "      <td>1</td>\n",
       "      <td>18.90</td>\n",
       "      <td>4</td>\n",
       "      <td>1</td>\n",
       "      <td>1</td>\n",
       "      <td>411</td>\n",
       "    </tr>\n",
       "    <tr>\n",
       "      <th>2</th>\n",
       "      <td>0000f46a3911fa3c0805444483337064</td>\n",
       "      <td>537</td>\n",
       "      <td>1</td>\n",
       "      <td>69.00</td>\n",
       "      <td>1</td>\n",
       "      <td>1</td>\n",
       "      <td>2</td>\n",
       "      <td>112</td>\n",
       "    </tr>\n",
       "    <tr>\n",
       "      <th>3</th>\n",
       "      <td>0000f6ccb0745a6a4b88665a16c9f078</td>\n",
       "      <td>321</td>\n",
       "      <td>1</td>\n",
       "      <td>25.99</td>\n",
       "      <td>2</td>\n",
       "      <td>1</td>\n",
       "      <td>1</td>\n",
       "      <td>211</td>\n",
       "    </tr>\n",
       "    <tr>\n",
       "      <th>4</th>\n",
       "      <td>0004aac84e0df4da2b147fca70cf8255</td>\n",
       "      <td>288</td>\n",
       "      <td>1</td>\n",
       "      <td>180.00</td>\n",
       "      <td>2</td>\n",
       "      <td>1</td>\n",
       "      <td>5</td>\n",
       "      <td>215</td>\n",
       "    </tr>\n",
       "  </tbody>\n",
       "</table>\n",
       "</div>"
      ],
      "text/plain": [
       "                 customer_unique_id  recency  frequency  monetary  R  F  M  \\\n",
       "0  0000366f3b9a7992bf8c76cfdf3221e2      112          1    129.90  4  1  4   \n",
       "1  0000b849f77a49e4a4ce2b2a4ca5be3f      114          1     18.90  4  1  1   \n",
       "2  0000f46a3911fa3c0805444483337064      537          1     69.00  1  1  2   \n",
       "3  0000f6ccb0745a6a4b88665a16c9f078      321          1     25.99  2  1  1   \n",
       "4  0004aac84e0df4da2b147fca70cf8255      288          1    180.00  2  1  5   \n",
       "\n",
       "   RFM  \n",
       "0  414  \n",
       "1  411  \n",
       "2  112  \n",
       "3  211  \n",
       "4  215  "
      ]
     },
     "execution_count": 173,
     "metadata": {},
     "output_type": "execute_result"
    }
   ],
   "source": [
    "rfm_segmentation_df.head()"
   ]
  },
  {
   "cell_type": "code",
   "execution_count": 176,
   "metadata": {
    "scrolled": true
   },
   "outputs": [
    {
     "data": {
      "text/plain": [
       "<matplotlib.axes._subplots.AxesSubplot at 0x7f9adbc47400>"
      ]
     },
     "execution_count": 176,
     "metadata": {},
     "output_type": "execute_result"
    },
    {
     "data": {
      "image/png": "[encoded data removed]",
      "text/plain": [
       "<Figure size 432x288 with 1 Axes>"
      ]
     },
     "metadata": {
      "needs_background": "light"
     },
     "output_type": "display_data"
    }
   ],
   "source": [
    "sns.histplot(rfm_segmentation_df.RFM)"
   ]
  },
  {
   "cell_type": "markdown",
   "metadata": {},
   "source": [
    "Найдем RFM сегменты, встречающиеся чаще всего"
   ]
  },
  {
   "cell_type": "code",
   "execution_count": 181,
   "metadata": {},
   "outputs": [
    {
     "data": {
      "text/html": [
       "<div>\n",
       "<style scoped>\n",
       "    .dataframe tbody tr th:only-of-type {\n",
       "        vertical-align: middle;\n",
       "    }\n",
       "\n",
       "    .dataframe tbody tr th {\n",
       "        vertical-align: top;\n",
       "    }\n",
       "\n",
       "    .dataframe thead th {\n",
       "        text-align: right;\n",
       "    }\n",
       "</style>\n",
       "<table border=\"1\" class=\"dataframe\">\n",
       "  <thead>\n",
       "    <tr style=\"text-align: right;\">\n",
       "      <th></th>\n",
       "      <th>RFM</th>\n",
       "      <th>customer_unique_id</th>\n",
       "    </tr>\n",
       "  </thead>\n",
       "  <tbody>\n",
       "    <tr>\n",
       "      <th>0</th>\n",
       "      <td>111</td>\n",
       "      <td>4080</td>\n",
       "    </tr>\n",
       "    <tr>\n",
       "      <th>1</th>\n",
       "      <td>112</td>\n",
       "      <td>3939</td>\n",
       "    </tr>\n",
       "    <tr>\n",
       "      <th>2</th>\n",
       "      <td>113</td>\n",
       "      <td>3390</td>\n",
       "    </tr>\n",
       "    <tr>\n",
       "      <th>3</th>\n",
       "      <td>114</td>\n",
       "      <td>3240</td>\n",
       "    </tr>\n",
       "    <tr>\n",
       "      <th>4</th>\n",
       "      <td>115</td>\n",
       "      <td>3512</td>\n",
       "    </tr>\n",
       "    <tr>\n",
       "      <th>19</th>\n",
       "      <td>211</td>\n",
       "      <td>3614</td>\n",
       "    </tr>\n",
       "    <tr>\n",
       "      <th>20</th>\n",
       "      <td>212</td>\n",
       "      <td>4001</td>\n",
       "    </tr>\n",
       "    <tr>\n",
       "      <th>21</th>\n",
       "      <td>213</td>\n",
       "      <td>3406</td>\n",
       "    </tr>\n",
       "    <tr>\n",
       "      <th>22</th>\n",
       "      <td>214</td>\n",
       "      <td>3380</td>\n",
       "    </tr>\n",
       "    <tr>\n",
       "      <th>23</th>\n",
       "      <td>215</td>\n",
       "      <td>3401</td>\n",
       "    </tr>\n",
       "    <tr>\n",
       "      <th>33</th>\n",
       "      <td>311</td>\n",
       "      <td>3971</td>\n",
       "    </tr>\n",
       "    <tr>\n",
       "      <th>34</th>\n",
       "      <td>312</td>\n",
       "      <td>3800</td>\n",
       "    </tr>\n",
       "    <tr>\n",
       "      <th>35</th>\n",
       "      <td>313</td>\n",
       "      <td>3492</td>\n",
       "    </tr>\n",
       "    <tr>\n",
       "      <th>36</th>\n",
       "      <td>314</td>\n",
       "      <td>3642</td>\n",
       "    </tr>\n",
       "    <tr>\n",
       "      <th>37</th>\n",
       "      <td>315</td>\n",
       "      <td>3315</td>\n",
       "    </tr>\n",
       "    <tr>\n",
       "      <th>49</th>\n",
       "      <td>411</td>\n",
       "      <td>3721</td>\n",
       "    </tr>\n",
       "    <tr>\n",
       "      <th>50</th>\n",
       "      <td>412</td>\n",
       "      <td>3745</td>\n",
       "    </tr>\n",
       "    <tr>\n",
       "      <th>51</th>\n",
       "      <td>413</td>\n",
       "      <td>3382</td>\n",
       "    </tr>\n",
       "    <tr>\n",
       "      <th>52</th>\n",
       "      <td>414</td>\n",
       "      <td>3880</td>\n",
       "    </tr>\n",
       "    <tr>\n",
       "      <th>53</th>\n",
       "      <td>415</td>\n",
       "      <td>3480</td>\n",
       "    </tr>\n",
       "    <tr>\n",
       "      <th>64</th>\n",
       "      <td>511</td>\n",
       "      <td>3887</td>\n",
       "    </tr>\n",
       "    <tr>\n",
       "      <th>65</th>\n",
       "      <td>512</td>\n",
       "      <td>3732</td>\n",
       "    </tr>\n",
       "    <tr>\n",
       "      <th>66</th>\n",
       "      <td>513</td>\n",
       "      <td>3389</td>\n",
       "    </tr>\n",
       "    <tr>\n",
       "      <th>67</th>\n",
       "      <td>514</td>\n",
       "      <td>3763</td>\n",
       "    </tr>\n",
       "    <tr>\n",
       "      <th>68</th>\n",
       "      <td>515</td>\n",
       "      <td>3374</td>\n",
       "    </tr>\n",
       "  </tbody>\n",
       "</table>\n",
       "</div>"
      ],
      "text/plain": [
       "    RFM  customer_unique_id\n",
       "0   111                4080\n",
       "1   112                3939\n",
       "2   113                3390\n",
       "3   114                3240\n",
       "4   115                3512\n",
       "19  211                3614\n",
       "20  212                4001\n",
       "21  213                3406\n",
       "22  214                3380\n",
       "23  215                3401\n",
       "33  311                3971\n",
       "34  312                3800\n",
       "35  313                3492\n",
       "36  314                3642\n",
       "37  315                3315\n",
       "49  411                3721\n",
       "50  412                3745\n",
       "51  413                3382\n",
       "52  414                3880\n",
       "53  415                3480\n",
       "64  511                3887\n",
       "65  512                3732\n",
       "66  513                3389\n",
       "67  514                3763\n",
       "68  515                3374"
      ]
     },
     "execution_count": 181,
     "metadata": {},
     "output_type": "execute_result"
    }
   ],
   "source": [
    "rfm_segmentation_df\\\n",
    "    .groupby('RFM', as_index=False)\\\n",
    "    .agg({'customer_unique_id': 'count'})\\\n",
    "    .query('customer_unique_id > 3000')"
   ]
  },
  {
   "cell_type": "code",
   "execution_count": null,
   "metadata": {},
   "outputs": [],
   "source": []
  }
 ],
 "metadata": {
  "kernelspec": {
   "display_name": "Python 3",
   "language": "python",
   "name": "python3"
  },
  "language_info": {
   "codemirror_mode": {
    "name": "ipython",
    "version": 3
   },
   "file_extension": ".py",
   "mimetype": "text/x-python",
   "name": "python",
   "nbconvert_exporter": "python",
   "pygments_lexer": "ipython3",
   "version": "3.7.3"
  }
 },
 "nbformat": 4,
 "nbformat_minor": 4
}
